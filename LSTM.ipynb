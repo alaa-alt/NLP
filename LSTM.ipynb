{
 "cells": [
  {
   "cell_type": "markdown",
   "id": "6bdb2236",
   "metadata": {},
   "source": [
    "# RNN - LSTM"
   ]
  },
  {
   "cell_type": "markdown",
   "id": "9fa57d4c",
   "metadata": {},
   "source": [
    "# RNN  "
   ]
  },
  {
   "cell_type": "code",
   "execution_count": 138,
   "id": "3043e037",
   "metadata": {},
   "outputs": [
    {
     "data": {
      "text/plain": [
       "tensor(49)"
      ]
     },
     "execution_count": 138,
     "metadata": {},
     "output_type": "execute_result"
    }
   ],
   "source": [
    "import torch\n",
    "from torch import nn\n",
    "\n",
    "x = torch.tensor([4,5])\n",
    "y = torch.tensor([1,9])\n",
    "\n",
    "torch.cat((x,y))\n",
    "\n",
    "z = torch.sigmoid(x)\n",
    "\n",
    "\n",
    "g = torch.dot(x,y)\n",
    "g"
   ]
  },
  {
   "cell_type": "code",
   "execution_count": 139,
   "id": "0aa69252",
   "metadata": {},
   "outputs": [],
   "source": [
    "import torch\n",
    "import torch.nn as nn\n",
    "import torch.nn.functional as F\n",
    "import torchvision \n",
    "from torchvision import transforms\n",
    "\n",
    "from torch.utils.data import Dataset, DataLoader\n",
    "\n",
    "from tqdm.autonotebook import tqdm\n",
    "\n",
    "import numpy as np\n",
    "import seaborn as sns\n",
    "import matplotlib.pyplot as plt\n",
    "from matplotlib.pyplot import imshow\n",
    "import pandas as pd\n",
    "from sklearn.metrics import accuracy_score\n",
    "import time"
   ]
  },
  {
   "cell_type": "code",
   "execution_count": 140,
   "id": "cc41d9bf",
   "metadata": {},
   "outputs": [],
   "source": [
    "D = 28*28\n",
    "n = 256\n",
    "C = 1\n",
    "\n",
    "classes = 10\n",
    "\n",
    "model_regular = nn.Sequential(\n",
    "    nn.Flatten(), \n",
    "    nn.Linear(D, n), \n",
    "    nn.Tanh(), \n",
    "    nn.Linear(n, n),\n",
    "    nn.Tanh(),\n",
    "    nn.Linear(n, n), \n",
    "    nn.Tanh(), \n",
    "    nn.Linear(n, classes), \n",
    ")"
   ]
  },
  {
   "cell_type": "code",
   "execution_count": 141,
   "id": "a245bba3",
   "metadata": {},
   "outputs": [],
   "source": [
    "h_2 = nn.Linear(n, n)\n",
    "\n",
    "model_shared = nn.Sequential(\n",
    "    nn.Flatten(),\n",
    "    nn.Linear(D, n), \n",
    "    nn.Tanh(), h_2,\n",
    "    nn.Tanh(), h_2,\n",
    "    nn.Tanh(),\n",
    "    nn.Linear(n, classes),\n",
    ")"
   ]
  },
  {
   "cell_type": "markdown",
   "id": "9e66de7e",
   "metadata": {},
   "source": [
    "# Lets build an RNN network "
   ]
  },
  {
   "cell_type": "code",
   "execution_count": 142,
   "id": "28d2cf3e",
   "metadata": {},
   "outputs": [],
   "source": [
    "zip_file_url = \"https://download.pytorch.org/tutorial/data.zip\"\n",
    "\n",
    "import requests, zipfile, io\n",
    "r = requests.get(zip_file_url)\n",
    "z = zipfile.ZipFile(io.BytesIO(r.content))\n",
    "z.extractall()"
   ]
  },
  {
   "cell_type": "code",
   "execution_count": 143,
   "id": "3a517d0f",
   "metadata": {},
   "outputs": [
    {
     "name": "stdout",
     "output_type": "stream",
     "text": [
      "Arabic :  2000\n",
      "Chinese :  268\n",
      "Czech :  519\n",
      "Dutch :  297\n",
      "English :  3668\n",
      "French :  277\n",
      "German :  724\n",
      "Greek :  203\n",
      "Irish :  232\n",
      "Italian :  709\n",
      "Japanese :  991\n",
      "Korean :  94\n",
      "Polish :  139\n",
      "Portuguese :  74\n",
      "Russian :  9408\n",
      "Scottish :  100\n",
      "Spanish :  298\n",
      "Vietnamese :  73\n"
     ]
    }
   ],
   "source": [
    "namge_language_data = {}\n",
    "\n",
    "#We will use some code to remove UNICODE tokens to make life easy for us processing wise\n",
    "#e.g., convert something like \"Ślusàrski\" to Slusarski\n",
    "import unicodedata\n",
    "import string\n",
    "\n",
    "all_letters = string.ascii_letters + \" .,;'\"\n",
    "n_letters = len(all_letters)\n",
    "alphabet = {}\n",
    "for i in range(n_letters):\n",
    "    alphabet[all_letters[i]] = i\n",
    "    \n",
    "# Turn a Unicode string to plain ASCII, thanks to https://stackoverflow.com/a/518232/2809427\n",
    "def unicodeToAscii(s):\n",
    "    return ''.join(\n",
    "        c for c in unicodedata.normalize('NFD', s)\n",
    "        if unicodedata.category(c) != 'Mn'\n",
    "        and c in all_letters\n",
    "    )\n",
    "\n",
    "#Loop through every language, open the zip file entry, and read all the lines from the text file. \n",
    "for zip_path in z.namelist():\n",
    "    if \"data/names/\" in zip_path and zip_path.endswith(\".txt\"):\n",
    "        lang = zip_path[len(\"data/names/\"):-len(\".txt\")]\n",
    "        with z.open(zip_path) as myfile:\n",
    "            lang_names = [unicodeToAscii(line).lower() for line in str(myfile.read(), encoding='utf-8').strip().split(\"\\n\")]\n",
    "            namge_language_data[lang] = lang_names\n",
    "        print(lang, \": \", len(lang_names)) #Print out the name of each language too. \n"
   ]
  },
  {
   "cell_type": "code",
   "execution_count": 144,
   "id": "cca327b6",
   "metadata": {},
   "outputs": [
    {
     "data": {
      "text/plain": [
       "dict_keys(['Arabic', 'Chinese', 'Czech', 'Dutch', 'English', 'French', 'German', 'Greek', 'Irish', 'Italian', 'Japanese', 'Korean', 'Polish', 'Portuguese', 'Russian', 'Scottish', 'Spanish', 'Vietnamese'])"
      ]
     },
     "execution_count": 144,
     "metadata": {},
     "output_type": "execute_result"
    }
   ],
   "source": [
    "namge_language_data.keys()"
   ]
  },
  {
   "cell_type": "code",
   "execution_count": 145,
   "id": "819596d3",
   "metadata": {},
   "outputs": [
    {
     "name": "stdout",
     "output_type": "stream",
     "text": [
      "First 10 Arabic names in the dataset:\n",
      "1. khoury\n",
      "2. nahas\n",
      "3. daher\n",
      "4. gerges\n",
      "5. nazari\n",
      "6. maalouf\n",
      "7. gerges\n",
      "8. naifeh\n",
      "9. guirguis\n",
      "10. baba\n"
     ]
    }
   ],
   "source": [
    "# Show the first 10 Arabic names in the dataset\n",
    "print(\"First 10 Arabic names in the dataset:\")\n",
    "for i, name in enumerate(namge_language_data[\"Arabic\"][:10], 1):\n",
    "    print(f\"{i}. {name}\")"
   ]
  },
  {
   "cell_type": "code",
   "execution_count": 146,
   "metadata": {},
   "outputs": [],
   "source": [
    "class LanguageNameDataset(Dataset):\n",
    "    '''\n",
    "    self.label_names becomes ['English', 'Spanish', 'Japanese']\n",
    "    self.data becomes ['Smith', 'Johnson', 'Williams', 'Garcia', 'Rodriguez', 'Lopez', 'Tanaka', 'Suzuki', 'Sato']\n",
    "    self.labels becomes [0, 0, 0, 1, 1, 1, 2, 2, 2] (0 for English, 1 for Spanish, 2 for Japanese)\n",
    "\n",
    "    Now, let's see what happens when we access a specific item, for example dataset[4]:\n",
    "\n",
    "    The __getitem__ method is called with idx=4\n",
    "    It retrieves name = self.data[4] which is 'Rodriguez'\n",
    "    It retrieves label = self.labels[4] which is 1 (Spanish)\n",
    "    It calls self.string2InputVec('Rodriguez') which does the following:\n",
    "\n",
    "    Creates a tensor of zeros with length 9 (number of characters in \"Rodriguez\")\n",
    "    For each character, it replaces the zeros with the corresponding integer from the vocabulary:\n",
    "\n",
    "    'R' → 44\n",
    "    'o' → 15\n",
    "    'd' → 4\n",
    "    'r' → 18\n",
    "    'i' → 9\n",
    "    'g' → 7\n",
    "    'u' → 21\n",
    "    'e' → 5\n",
    "    'z' → 26\n",
    "\n",
    "\n",
    "    This creates the tensor: tensor([44, 15, 4, 18, 9, 7, 21, 5, 26])\n",
    "\n",
    "\n",
    "    It converts the label 1 to a tensor: tensor([1])\n",
    "    It returns the tuple: (tensor([44, 15, 4, 18, 9, 7, 21, 5, 26]), tensor([1]))\n",
    "    '''\n",
    "    \n",
    "    def __init__(self, lang_name_dict, vocabulary):\n",
    "        self.label_names = [x for x in lang_name_dict.keys()]\n",
    "        self.data = []\n",
    "        self.labels = []\n",
    "        self.vocabulary = vocabulary\n",
    "        for y, language in enumerate(self.label_names):\n",
    "            for sample in lang_name_dict[language]:\n",
    "                self.data.append(sample)\n",
    "                self.labels.append(y)\n",
    "        \n",
    "    def __len__(self):\n",
    "        return len(self.data)\n",
    "    \n",
    "    def string2InputVec(self, input_string):\n",
    "        \"\"\"\n",
    "        This method will convert any input string into a vector of long values, according to the vocabulary used by this object. \n",
    "        input_string: the string to convert to a tensor\n",
    "        \"\"\"\n",
    "        # Amr\n",
    "        T = len(input_string) #How many characters long is the string?\n",
    "        \n",
    "        #Create a new tensor to store the result in\n",
    "        name_vec = torch.zeros((T), dtype=torch.long)\n",
    "        # [0,0,0]\n",
    "        #iterate through the string and place the appropriate values into the tensor\n",
    "        for pos, character in enumerate(input_string):\n",
    "            name_vec[pos] = self.vocabulary[character]\n",
    "            \n",
    "        return name_vec\n",
    "    \n",
    "    def __getitem__(self, idx):\n",
    "        name = self.data[idx]\n",
    "        label = self.labels[idx]\n",
    "        \n",
    "        # Convert the correct class label into a tensor for PyTorch\n",
    "        label_vec = torch.tensor([label], dtype=torch.long)\n",
    "        \n",
    "        return self.string2InputVec(name), label\n"
   ]
  },
  {
   "cell_type": "code",
   "execution_count": 147,
   "metadata": {},
   "outputs": [],
   "source": [
    "dataset = LanguageNameDataset(namge_language_data, alphabet)\n",
    "\n",
    "train_data, test_data = torch.utils.data.random_split(dataset, (len(dataset)-300, 300))\n",
    "train_loader = DataLoader(train_data, batch_size=1, shuffle=True)\n",
    "test_loader = DataLoader(test_data, batch_size=1, shuffle=False)"
   ]
  },
  {
   "cell_type": "code",
   "execution_count": 148,
   "id": "14613ff1",
   "metadata": {},
   "outputs": [
    {
     "name": "stdout",
     "output_type": "stream",
     "text": [
      "torch.Size([5]) torch.Size([5, 2])\n",
      "tensor([[ 1.3334,  0.8525],\n",
      "        [-0.2513, -1.9818],\n",
      "        [-0.2513, -1.9818],\n",
      "        [ 1.3334,  0.8525],\n",
      "        [ 0.0882, -0.2854]])\n"
     ]
    }
   ],
   "source": [
    "# example of embedding\n",
    "# ammae\n",
    "'input sequence with T = 5 items but a vocabulary of only 3 items'\n",
    "with torch.no_grad():\n",
    "    input_sequence = torch.tensor([0, 1, 1, 0, 2], dtype=torch.long)\n",
    "    embd = nn.Embedding(3, 2)\n",
    "    x_seq = embd(input_sequence)\n",
    "    print(input_sequence.shape, x_seq.shape)\n",
    "    print(x_seq)"
   ]
  },
  {
   "cell_type": "code",
   "execution_count": 149,
   "id": "a9f0cfbf",
   "metadata": {},
   "outputs": [],
   "source": [
    "class LastTimeStep(nn.Module):\n",
    "    \"\"\"\n",
    "    A class for extracting the hidden activations of the last time step following \n",
    "    the output of a PyTorch RNN module.\n",
    "    it extracts the final hidden state from the RNN, \n",
    "    which contains the model's \"understanding\" of the entire name sequence\n",
    "    \"\"\"\n",
    "    def __init__(self, rnn_layers=1, bidirectional=False):\n",
    "        super(LastTimeStep, self).__init__()\n",
    "        self.rnn_layers = rnn_layers\n",
    "        if bidirectional:\n",
    "            self.num_driections = 2\n",
    "        else:\n",
    "            self.num_driections = 1    \n",
    "    \n",
    "    def forward(self, input):\n",
    "        #Result is either a tuple (out, h_t)\n",
    "        #or a tuple (out, (h_t, c_t))\n",
    "        rnn_output = input[0]\n",
    "        last_step = input[1] #this will be h_t\n",
    "        if(type(last_step) == tuple): # unless it's a tuple, \n",
    "            last_step = last_step[0] # then h_t is the first item in the tuple\n",
    "        batch_size = last_step.shape[1] # per docs, shape is: '(num_layers * num_directions, batch, hidden_size)'\n",
    "        # reshaping so that everything is separate \n",
    "        last_step = last_step.view(self.rnn_layers, self.num_driections, batch_size, -1)\n",
    "        # We want the last layer's results\n",
    "        last_step = last_step[self.rnn_layers-1] \n",
    "        # Re order so batch comes first\n",
    "        last_step = last_step.permute(1, 0, 2)\n",
    "        # Finally, flatten the last two dimensions into one\n",
    "        return last_step.reshape(batch_size, -1)\n",
    "\n"
   ]
  },
  {
   "cell_type": "code",
   "execution_count": 150,
   "id": "e3fdebd0",
   "metadata": {},
   "outputs": [],
   "source": [
    "D = 64\n",
    "vocab_size = len(all_letters)\n",
    "hidden_nodes = 256\n",
    "classes = len(dataset.label_names)\n",
    "\n",
    "first_rnn = nn.Sequential(\n",
    "  nn.Embedding(vocab_size, D), #(B, T) -> (B, T, D)\n",
    "  nn.RNN(D, hidden_nodes, batch_first=True), #(B, T, D) -> ( (B,T,D) , (S, B, D)  )\n",
    "  # the tanh activation is built into the RNN object, so we don't need to do it here\n",
    "  LastTimeStep(), # We need to take the RNN output and reduce it to one item, (B, D)\n",
    "  nn.Linear(hidden_nodes, classes), #(B, D) -> (B, classes)\n",
    ")\n"
   ]
  },
  {
   "cell_type": "code",
   "execution_count": 151,
   "id": "d05214f0",
   "metadata": {},
   "outputs": [],
   "source": [
    "def moveTo(obj, device):\n",
    "    \"\"\"\n",
    "    obj: the python object to move to a device, or to move its contents to a device\n",
    "    device: the compute device to move objects to\n",
    "    \"\"\"\n",
    "    if hasattr(obj, \"to\"):\n",
    "        return obj.to(device)\n",
    "    elif isinstance(obj, list):\n",
    "        return [moveTo(x, device) for x in obj]\n",
    "    elif isinstance(obj, tuple):\n",
    "        return tuple(moveTo(list(obj), device))\n",
    "    elif isinstance(obj, set):\n",
    "        return set(moveTo(list(obj), device))\n",
    "    elif isinstance(obj, dict):\n",
    "        to_ret = dict()\n",
    "        for key, value in obj.items():\n",
    "            to_ret[moveTo(key, device)] = moveTo(value, device)\n",
    "        return to_ret\n",
    "    else:\n",
    "        return obj\n",
    "    \n",
    "def run_epoch(model, optimizer, data_loader, loss_func, device, results, score_funcs, prefix=\"\", desc=None):\n",
    "    \"\"\"\n",
    "    model -- the PyTorch model / \"Module\" to run for one epoch\n",
    "    optimizer -- the object that will update the weights of the network\n",
    "    data_loader -- DataLoader object that returns tuples of (input, label) pairs. \n",
    "    loss_func -- the loss function that takes in two arguments, the model outputs and the labels, and returns a score\n",
    "    device -- the compute lodation to perform training\n",
    "    score_funcs -- a dictionary of scoring functions to use to evalue the performance of the model\n",
    "    prefix -- a string to pre-fix to any scores placed into the _results_ dictionary. \n",
    "    desc -- a description to use for the progress bar.     \n",
    "    \"\"\"\n",
    "    running_loss = []\n",
    "    y_true = []\n",
    "    y_pred = []\n",
    "    start = time.time()\n",
    "    for inputs, labels in tqdm(data_loader, desc=desc, leave=False):\n",
    "        #Move the batch to the device we are using. \n",
    "        inputs = moveTo(inputs, device)\n",
    "        labels = moveTo(labels, device)\n",
    "\n",
    "        y_hat = model(inputs) #this just computed f_Θ(x(i))\n",
    "        # Compute loss.\n",
    "        loss = loss_func(y_hat, labels)\n",
    "\n",
    "        if model.training:\n",
    "            loss.backward()\n",
    "            optimizer.step()\n",
    "            optimizer.zero_grad()\n",
    "\n",
    "        #Now we are just grabbing some information we would like to have\n",
    "        running_loss.append(loss.item())\n",
    "\n",
    "        if len(score_funcs) > 0 and isinstance(labels, torch.Tensor):\n",
    "            #moving labels & predictions back to CPU for computing / storing predictions\n",
    "            labels = labels.detach().cpu().numpy()\n",
    "            y_hat = y_hat.detach().cpu().numpy()\n",
    "            #add to predictions so far\n",
    "            y_true.extend(labels.tolist())\n",
    "            y_pred.extend(y_hat.tolist())\n",
    "    #end training epoch\n",
    "    end = time.time()\n",
    "    \n",
    "    y_pred = np.asarray(y_pred)\n",
    "    if len(y_pred.shape) == 2 and y_pred.shape[1] > 1: #We have a classification problem, convert to labels\n",
    "        y_pred = np.argmax(y_pred, axis=1)\n",
    "    #Else, we assume we are working on a regression problem\n",
    "    \n",
    "    results[prefix + \" loss\"].append( np.mean(running_loss) )\n",
    "    for name, score_func in score_funcs.items():\n",
    "        try:\n",
    "            results[prefix + \" \" + name].append( score_func(y_true, y_pred) )\n",
    "        except:\n",
    "            results[prefix + \" \" + name].append(float(\"NaN\"))\n",
    "    return end-start #time spent on epoch\n",
    "\n",
    "def train_simple_network(model, loss_func, train_loader, test_loader=None, score_funcs=None, \n",
    "                         epochs=50, device=\"cpu\", checkpoint_file=None, lr=0.001):\n",
    "    \"\"\"Train simple neural networks\n",
    "    \n",
    "    Keyword arguments:\n",
    "    model -- the PyTorch model / \"Module\" to train\n",
    "    loss_func -- the loss function that takes in batch in two arguments, the model outputs and the labels, and returns a score\n",
    "    train_loader -- PyTorch DataLoader object that returns tuples of (input, label) pairs. \n",
    "    test_loader -- Optional PyTorch DataLoader to evaluate on after every epoch\n",
    "    score_funcs -- A dictionary of scoring functions to use to evalue the performance of the model\n",
    "    epochs -- the number of training epochs to perform\n",
    "    device -- the compute lodation to perform training\n",
    "    \n",
    "    \"\"\"\n",
    "    to_track = [\"epoch\", \"total time\", \"train loss\"]\n",
    "    if test_loader is not None:\n",
    "        to_track.append(\"test loss\")\n",
    "    for eval_score in score_funcs:\n",
    "        to_track.append(\"train \" + eval_score )\n",
    "        if test_loader is not None:\n",
    "            to_track.append(\"test \" + eval_score )\n",
    "        \n",
    "    total_train_time = 0 #How long have we spent in the training loop? \n",
    "    results = {}\n",
    "    #Initialize every item with an empty list\n",
    "    for item in to_track:\n",
    "        results[item] = []\n",
    "        \n",
    "    #SGD is Stochastic Gradient Decent.\n",
    "    optimizer = torch.optim.SGD(model.parameters(), lr=0.001)\n",
    "    #Place the model on the correct compute resource (CPU or GPU)\n",
    "    model.to(device)\n",
    "    for epoch in tqdm(range(epochs), desc=\"Epoch\"):\n",
    "        model = model.train()#Put our model in training mode\n",
    "        \n",
    "        total_train_time += run_epoch(model, optimizer, train_loader, loss_func, device, results, score_funcs, prefix=\"train\", desc=\"Training\")\n",
    "\n",
    "        results[\"total time\"].append( total_train_time )\n",
    "        results[\"epoch\"].append( epoch )\n",
    "        \n",
    "        if test_loader is not None:\n",
    "            model = model.eval()\n",
    "            with torch.no_grad():\n",
    "                run_epoch(model, optimizer, test_loader, loss_func, device, results, score_funcs, prefix=\"test\", desc=\"Testing\")\n",
    "                    \n",
    "    if checkpoint_file is not None:\n",
    "        torch.save({\n",
    "            'epoch': epoch,\n",
    "            'model_state_dict': model.state_dict(),\n",
    "            'optimizer_state_dict': optimizer.state_dict(),\n",
    "            'results' : results\n",
    "            }, checkpoint_file)\n",
    "\n",
    "    return pd.DataFrame.from_dict(results)"
   ]
  },
  {
   "cell_type": "code",
   "execution_count": 152,
   "id": "6381f6ca",
   "metadata": {},
   "outputs": [
    {
     "data": {
      "application/vnd.jupyter.widget-view+json": {
       "model_id": "8614054d83de4fcf8fd02b2d5d775ac5",
       "version_major": 2,
       "version_minor": 0
      },
      "text/plain": [
       "Epoch:   0%|          | 0/5 [00:00<?, ?it/s]"
      ]
     },
     "metadata": {},
     "output_type": "display_data"
    },
    {
     "data": {
      "application/vnd.jupyter.widget-view+json": {
       "model_id": "65a6218764b0448cbe031d7ccebc2fd4",
       "version_major": 2,
       "version_minor": 0
      },
      "text/plain": [
       "Training:   0%|          | 0/19774 [00:00<?, ?it/s]"
      ]
     },
     "metadata": {},
     "output_type": "display_data"
    },
    {
     "data": {
      "application/vnd.jupyter.widget-view+json": {
       "model_id": "c8db3eb03a7f470a889002cc886ad17a",
       "version_major": 2,
       "version_minor": 0
      },
      "text/plain": [
       "Testing:   0%|          | 0/300 [00:00<?, ?it/s]"
      ]
     },
     "metadata": {},
     "output_type": "display_data"
    },
    {
     "data": {
      "application/vnd.jupyter.widget-view+json": {
       "model_id": "9cb2b2440f14497fadaad81ceb790d6f",
       "version_major": 2,
       "version_minor": 0
      },
      "text/plain": [
       "Training:   0%|          | 0/19774 [00:00<?, ?it/s]"
      ]
     },
     "metadata": {},
     "output_type": "display_data"
    },
    {
     "data": {
      "application/vnd.jupyter.widget-view+json": {
       "model_id": "f31dd5a9d5a147e292fdf26e7fd31ff3",
       "version_major": 2,
       "version_minor": 0
      },
      "text/plain": [
       "Testing:   0%|          | 0/300 [00:00<?, ?it/s]"
      ]
     },
     "metadata": {},
     "output_type": "display_data"
    },
    {
     "data": {
      "application/vnd.jupyter.widget-view+json": {
       "model_id": "0864c849c129439bb705a3a0955609f0",
       "version_major": 2,
       "version_minor": 0
      },
      "text/plain": [
       "Training:   0%|          | 0/19774 [00:00<?, ?it/s]"
      ]
     },
     "metadata": {},
     "output_type": "display_data"
    },
    {
     "data": {
      "application/vnd.jupyter.widget-view+json": {
       "model_id": "4244014cca6b4d23b2e20d51a06eba13",
       "version_major": 2,
       "version_minor": 0
      },
      "text/plain": [
       "Testing:   0%|          | 0/300 [00:00<?, ?it/s]"
      ]
     },
     "metadata": {},
     "output_type": "display_data"
    },
    {
     "data": {
      "application/vnd.jupyter.widget-view+json": {
       "model_id": "b01e6d2e8bc04ed7a62c2efed9df97cb",
       "version_major": 2,
       "version_minor": 0
      },
      "text/plain": [
       "Training:   0%|          | 0/19774 [00:00<?, ?it/s]"
      ]
     },
     "metadata": {},
     "output_type": "display_data"
    },
    {
     "data": {
      "application/vnd.jupyter.widget-view+json": {
       "model_id": "1cb6365bb07046edb42a298b889a8842",
       "version_major": 2,
       "version_minor": 0
      },
      "text/plain": [
       "Testing:   0%|          | 0/300 [00:00<?, ?it/s]"
      ]
     },
     "metadata": {},
     "output_type": "display_data"
    },
    {
     "data": {
      "application/vnd.jupyter.widget-view+json": {
       "model_id": "20b5d18359964518bfdab21a3c5535dc",
       "version_major": 2,
       "version_minor": 0
      },
      "text/plain": [
       "Training:   0%|          | 0/19774 [00:00<?, ?it/s]"
      ]
     },
     "metadata": {},
     "output_type": "display_data"
    },
    {
     "data": {
      "application/vnd.jupyter.widget-view+json": {
       "model_id": "9fd85e2d60b549059d2e25918fad3c38",
       "version_major": 2,
       "version_minor": 0
      },
      "text/plain": [
       "Testing:   0%|          | 0/300 [00:00<?, ?it/s]"
      ]
     },
     "metadata": {},
     "output_type": "display_data"
    }
   ],
   "source": [
    "loss_func = nn.CrossEntropyLoss()\n",
    "batch_one_train = train_simple_network(first_rnn,\n",
    "                                    loss_func,\n",
    "                                    train_loader,\n",
    "                                    test_loader=test_loader,\n",
    "                                    score_funcs={'Accuracy': accuracy_score},\n",
    "                                    device='cuda', epochs=5)\n"
   ]
  },
  {
   "cell_type": "code",
   "execution_count": 153,
   "id": "f9c0a98c",
   "metadata": {},
   "outputs": [
    {
     "data": {
      "text/plain": [
       "<Axes: xlabel='epoch', ylabel='test Accuracy'>"
      ]
     },
     "execution_count": 153,
     "metadata": {},
     "output_type": "execute_result"
    },
    {
     "data": {
      "image/png": "[encoded data removed]",
      "text/plain": [
       "<Figure size 640x480 with 1 Axes>"
      ]
     },
     "metadata": {},
     "output_type": "display_data"
    }
   ],
   "source": [
    "sns.lineplot(x='epoch', y='test Accuracy', data=batch_one_train, label='RNN')"
   ]
  },
  {
   "cell_type": "code",
   "execution_count": 154,
   "id": "3bf5fcee",
   "metadata": {},
   "outputs": [
    {
     "name": "stdout",
     "output_type": "stream",
     "text": [
      "Arabic : 0.00046726863729418255 %\n",
      "Chinese : 0.20934122148901224 %\n",
      "Czech : 8.658933639526367 %\n",
      "Dutch : 6.349746882915497 %\n",
      "English : 39.36773240566254 %\n",
      "French : 0.4672637674957514 %\n",
      "German : 35.596153140068054 %\n",
      "Greek : 0.018971670942846686 %\n",
      "Irish : 1.4677914790809155 %\n",
      "Italian : 0.7524889428168535 %\n",
      "Japanese : 0.025486713275313377 %\n",
      "Korean : 0.9927546605467796 %\n",
      "Polish : 2.0094167441129684 %\n",
      "Portuguese : 0.1420630025677383 %\n",
      "Russian : 0.2455677604302764 %\n",
      "Scottish : 2.0671749487519264 %\n",
      "Spanish : 0.22790520451962948 %\n",
      "Vietnamese : 1.400736253708601 %\n"
     ]
    }
   ],
   "source": [
    "pred_rnn = first_rnn.to(\"cpu\").eval()\n",
    "with torch.inference_mode():\n",
    "    preds = F.softmax(pred_rnn(dataset.string2InputVec(\"frank\").reshape(1,-1)), dim=-1)\n",
    "    for class_id in range(len(dataset.label_names)):\n",
    "        print(dataset.label_names[class_id], \":\", preds[0,class_id].item()*100 , \"%\")"
   ]
  },
  {
   "cell_type": "markdown",
   "id": "a9033d2e",
   "metadata": {},
   "source": [
    "### More simple example"
   ]
  },
  {
   "cell_type": "code",
   "execution_count": 155,
   "id": "0b2ace22",
   "metadata": {},
   "outputs": [
    {
     "name": "stdout",
     "output_type": "stream",
     "text": [
      "Character vocabulary size: 36\n",
      "Character mapping example: {'A': 1, 'C': 2, 'D': 3, 'E': 4, 'H': 5}\n",
      "Maximum name length: 11\n",
      "Input tensor shape: torch.Size([3, 5, 11])\n",
      "\n",
      "Encoded first name in batch 1: tensor([ 6, 27, 20, 26,  0,  0,  0,  0,  0,  0,  0])\n",
      "Decoded back: John\n",
      "\n",
      "Output shape for first names: torch.Size([3, 11, 20])\n",
      "Hidden state shape: torch.Size([1, 3, 20])\n"
     ]
    }
   ],
   "source": [
    "import torch\n",
    "import torch.nn as nn\n",
    "\n",
    "# Sample data: 3 batches, each with 5 names\n",
    "names_batch = [\n",
    "    # Batch 1: 5 American names\n",
    "    [\"John\", \"Elizabeth\", \"Michael\", \"Jennifer\", \"Christopher\"],\n",
    "    \n",
    "    # Batch 2: 5 Japanese names\n",
    "    [\"Hiroshi\", \"Yuki\", \"Takeshi\", \"Aiko\", \"Kenji\"],\n",
    "    \n",
    "    # Batch 3: 5 Indian names\n",
    "    [\"Raj\", \"Priya\", \"Aditya\", \"Divya\", \"Vikram\"]\n",
    "]\n",
    "\n",
    "# Step 1: Convert characters to indices\n",
    "# First, create a vocabulary of all characters\n",
    "all_chars = set()\n",
    "for batch in names_batch:\n",
    "    for name in batch:\n",
    "        all_chars.update(name)\n",
    "\n",
    "char_to_idx = {char: i+1 for i, char in enumerate(sorted(all_chars))}\n",
    "\n",
    "# Add padding token\n",
    "char_to_idx['<PAD>'] = 0\n",
    "idx_to_char = {i: char for char, i in char_to_idx.items()}\n",
    "\n",
    "print(\"Character vocabulary size:\", len(char_to_idx))\n",
    "print(\"Character mapping example:\", {k: char_to_idx[k] for k in list(char_to_idx.keys())[:5]})\n",
    "\n",
    "# Step 2: Find the longest name to determine max sequence length\n",
    "max_name_length = max(len(name) for batch in names_batch for name in batch)\n",
    "print(\"Maximum name length:\", max_name_length)\n",
    "\n",
    "# Step 3: Convert names to padded sequences of indices\n",
    "# Shape will be [batch_size, seq_length, input_size]\n",
    "# Where input_size=1 (one character at a time)\n",
    "input_data = torch.zeros(3, 5, max_name_length, dtype=torch.long)\n",
    "\n",
    "for batch_idx, batch in enumerate(names_batch):\n",
    "    for name_idx, name in enumerate(batch):\n",
    "        for char_idx, char in enumerate(name):\n",
    "            input_data[batch_idx, name_idx, char_idx] = char_to_idx[char]\n",
    "\n",
    "print(\"Input tensor shape:\", input_data.shape)\n",
    "print(\"\\nEncoded first name in batch 1:\", input_data[0, 0])\n",
    "print(\"Decoded back:\", ''.join([idx_to_char[idx.item()] for idx in input_data[0, 0] if idx.item() > 0]))\n",
    "\n",
    "# Step 4: For RNN processing, we need to convert this to one-hot encoding or embeddings\n",
    "# Let's use embeddings which is more efficient\n",
    "vocab_size = len(char_to_idx)\n",
    "embedding_dim = 10  # Size of character embeddings\n",
    "\n",
    "class NameRNN(nn.Module):\n",
    "    def __init__(self, vocab_size, embedding_dim, hidden_size):\n",
    "        super(NameRNN, self).__init__()\n",
    "        self.embedding = nn.Embedding(vocab_size, embedding_dim)\n",
    "        self.rnn = nn.RNN(embedding_dim, hidden_size, batch_first=True)\n",
    "        # We'll use the final hidden state for classification\n",
    "        \n",
    "    def forward(self, x):\n",
    "        # x shape: [batch_size, seq_length] for each name\n",
    "        embedded = self.embedding(x)  # Shape: [batch_size, seq_length, embedding_dim]\n",
    "        output, hidden = self.rnn(embedded)\n",
    "        return output, hidden\n",
    "\n",
    "# For processing, we'd need to reshape our data\n",
    "# Let's process one batch at a time for clarity\n",
    "model = NameRNN(vocab_size, embedding_dim, hidden_size=20)\n",
    "\n",
    "# Process the first name in each batch\n",
    "first_names = input_data[:, 0, :]  # Shape: [3, max_name_length]\n",
    "output, hidden = model(first_names)\n",
    "\n",
    "print(\"\\nOutput shape for first names:\", output.shape)  # Should be [3, max_name_length, 20]\n",
    "print(\"Hidden state shape:\", hidden.shape)  # Should be [1, 3, 20]"
   ]
  },
  {
   "cell_type": "markdown",
   "id": "9d7644b2",
   "metadata": {},
   "source": [
    "## LSTM"
   ]
  },
  {
   "cell_type": "markdown",
   "id": "5d4d05e0",
   "metadata": {},
   "source": [
    "1. choose a dataset\n",
    "2. download and check the shape of the dataset\n",
    "4. clean the data if needed (hint: regex)\n",
    "5. decide the tokenization strategy (word , character , sub character)\n",
    "6. build the vocab\n",
    "7. build a wrapper around the dataset\n",
    "8. dataloader -> train[0] (input,label)\n",
    "9. Build network architecture\n",
    "10. Training loop\n",
    "11. evaluate\n"
   ]
  },
  {
   "cell_type": "code",
   "execution_count": 156,
   "id": "94398a55",
   "metadata": {},
   "outputs": [
    {
     "name": "stdout",
     "output_type": "stream",
     "text": [
      "Libraries imported successfully!\n"
     ]
    },
    {
     "name": "stderr",
     "output_type": "stream",
     "text": [
      "[nltk_data] Downloading package punkt to\n",
      "[nltk_data]     C:\\Users\\alaa6\\AppData\\Roaming\\nltk_data...\n",
      "[nltk_data]   Package punkt is already up-to-date!\n"
     ]
    }
   ],
   "source": [
    "# -----------------------\n",
    "import torch\n",
    "import torch.nn as nn\n",
    "import torch.optim as optim\n",
    "from torch.utils.data import Dataset, DataLoader\n",
    "import numpy as np\n",
    "import pandas as pd\n",
    "import matplotlib.pyplot as plt\n",
    "from sklearn.model_selection import train_test_split\n",
    "from tqdm import tqdm\n",
    "from collections import Counter\n",
    "import re\n",
    "\n",
    "# For text preprocessing\n",
    "import nltk\n",
    "from nltk.tokenize import word_tokenize\n",
    "nltk.download('punkt')\n",
    "\n",
    "# For loading datasets\n",
    "from datasets import load_dataset\n",
    "\n",
    "# Set random seed for reproducibility\n",
    "torch.manual_seed(42)\n",
    "np.random.seed(42)\n",
    "\n",
    "print(\"Libraries imported successfully!\")"
   ]
  },
  {
   "cell_type": "code",
   "execution_count": 157,
   "id": "c05864d1",
   "metadata": {},
   "outputs": [
    {
     "name": "stdout",
     "output_type": "stream",
     "text": [
      "Dataset loaded! Total training examples: 25000\n",
      "Sample review (text): I rented I AM CURIOUS-YELLOW from my video store because of all the controversy that surrounded it w...\n",
      "Sample label (0=negative, 1=positive): 0\n"
     ]
    }
   ],
   "source": [
    "from datasets import load_dataset\n",
    "\n",
    "# Download the dataset\n",
    "dataset = load_dataset(\"imdb\")\n",
    "\n",
    "# Get train and test data\n",
    "train_data = dataset[\"train\"]\n",
    "test_data = dataset[\"test\"]\n",
    "\n",
    "# Display sample data\n",
    "print(f\"Dataset loaded! Total training examples: {len(train_data)}\")\n",
    "print(f\"Sample review (text): {train_data[0]['text'][:100]}...\")\n",
    "print(f\"Sample label (0=negative, 1=positive): {train_data[0]['label']}\")\n"
   ]
  },
  {
   "cell_type": "code",
   "execution_count": 158,
   "id": "a19999ac",
   "metadata": {},
   "outputs": [
    {
     "name": "stderr",
     "output_type": "stream",
     "text": [
      "100%|██████████| 25000/25000 [00:12<00:00, 1935.27it/s]\n",
      "100%|██████████| 25000/25000 [00:12<00:00, 1972.49it/s]"
     ]
    },
    {
     "name": "stdout",
     "output_type": "stream",
     "text": [
      "Data preprocessing complete! Example tokenized review: ['i', 'rented', 'i', 'am', 'curiousyellow', 'from', 'my', 'video', 'store', 'because', 'of', 'all', 'the', 'controversy', 'that']...\n",
      "Data preprocessing complete! Example tokenized label: 0...\n"
     ]
    },
    {
     "name": "stderr",
     "output_type": "stream",
     "text": [
      "\n"
     ]
    }
   ],
   "source": [
    "def preprocess_text(text):\n",
    "    \"\"\"Clean and tokenize the text\"\"\"\n",
    "    # Convert to lowercase\n",
    "    text = text.lower()\n",
    "    # Remove HTML tags\n",
    "    text = re.sub(r'<.*?>', '', text)\n",
    "    # Remove special characters and digits\n",
    "    text = re.sub(r'[^a-zA-Z\\s]', '', text)\n",
    "    # Tokenize\n",
    "    tokens = word_tokenize(text)\n",
    "    return tokens\n",
    "\n",
    "# Process training data\n",
    "train_reviews = []\n",
    "train_labels = []\n",
    "\n",
    "for sample in tqdm(train_data):\n",
    "    # Labels are already integers (0=negative, 1=positive)\n",
    "    label_int = sample['label']\n",
    "    train_labels.append(label_int)\n",
    "    # Preprocess text\n",
    "    tokens = preprocess_text(sample['text'])\n",
    "    train_reviews.append(tokens)\n",
    "\n",
    "# Process test data\n",
    "test_reviews = []\n",
    "test_labels = []\n",
    "\n",
    "for sample in tqdm(test_data):\n",
    "    label_int = sample['label']\n",
    "    test_labels.append(label_int)\n",
    "    tokens = preprocess_text(sample['text'])\n",
    "    test_reviews.append(tokens)\n",
    "\n",
    "print(f\"Data preprocessing complete! Example tokenized review: {train_reviews[0][:15]}...\")\n",
    "print(f\"Data preprocessing complete! Example tokenized label: {train_labels[0]}...\")\n"
   ]
  },
  {
   "cell_type": "code",
   "execution_count": 159,
   "id": "e766b8f1",
   "metadata": {},
   "outputs": [
    {
     "name": "stdout",
     "output_type": "stream",
     "text": [
      "Vocabulary created with 10000 words!\n",
      "Sample words: [('the', 2), ('and', 3), ('a', 4), ('of', 5), ('to', 6), ('is', 7), ('in', 8), ('it', 9), ('this', 10), ('i', 11)]\n"
     ]
    }
   ],
   "source": [
    "def build_vocab(reviews, max_words=10000):\n",
    "    \"\"\"Build a vocabulary of the most common words\"\"\"\n",
    "    word_count = Counter()\n",
    "    \n",
    "    # Count all words\n",
    "    for review in reviews:\n",
    "        word_count.update(review)\n",
    "    \n",
    "    # Select most common words\n",
    "    most_common = word_count.most_common(max_words - 2)  # -2 for <UNK> and <PAD>\n",
    "    vocab = {word: idx+2 for idx, (word, _) in enumerate(most_common)}\n",
    "    \n",
    "    # Add special tokens\n",
    "    vocab['<PAD>'] = 0\n",
    "    vocab['<UNK>'] = 1\n",
    "    \n",
    "    return vocab\n",
    "\n",
    "# Build vocabulary from training data\n",
    "vocab = build_vocab(train_reviews)\n",
    "vocab_size = len(vocab)\n",
    "\n",
    "print(f\"Vocabulary created with {vocab_size} words!\")\n",
    "print(f\"Sample words: {list(vocab.items())[:10]}\")\n",
    "\n",
    "# Create a reverse mapping for decoding\n",
    "idx_to_word = {idx: word for word, idx in vocab.items()}\n"
   ]
  },
  {
   "cell_type": "markdown",
   "id": "32fe5602",
   "metadata": {},
   "source": [
    "What should be the maximum length of my sequence aka review ??"
   ]
  },
  {
   "cell_type": "code",
   "execution_count": 160,
   "id": "9da70e5b",
   "metadata": {},
   "outputs": [
    {
     "name": "stdout",
     "output_type": "stream",
     "text": [
      "Maximum review length: 2441\n",
      "Mean review length: 227.81\n",
      "Median review length: 170.0\n",
      "95th percentile length: 583.0\n"
     ]
    },
    {
     "data": {
      "image/png": "[encoded data removed]",
      "text/plain": [
       "<Figure size 1000x600 with 1 Axes>"
      ]
     },
     "metadata": {},
     "output_type": "display_data"
    },
    {
     "name": "stdout",
     "output_type": "stream",
     "text": [
      "Chosen max_len: 583\n"
     ]
    },
    {
     "name": "stderr",
     "output_type": "stream",
     "text": [
      "100%|██████████| 25000/25000 [00:01<00:00, 18172.30it/s]\n",
      "100%|██████████| 25000/25000 [00:00<00:00, 28015.10it/s]\n"
     ]
    },
    {
     "name": "stdout",
     "output_type": "stream",
     "text": [
      "Data encoding complete! Example sequence: tensor([  11, 1511,   11,  237,    1,   36,   59,  390, 1132,   78,    5,   31,\n",
      "           2, 6947,   12])...\n",
      "All sequences are now of length 583\n",
      "Reviews truncated: 1245 (4.98%)\n"
     ]
    }
   ],
   "source": [
    "# Analyze review lengths to determine optimal max_len\n",
    "review_lengths = [len(review) for review in train_reviews]\n",
    "max_review_length = max(review_lengths)\n",
    "mean_length = np.mean(review_lengths)\n",
    "median_length = np.median(review_lengths)\n",
    "p95_length = np.percentile(review_lengths, 95)\n",
    "\n",
    "print(f\"Maximum review length: {max_review_length}\")\n",
    "print(f\"Mean review length: {mean_length:.2f}\")\n",
    "print(f\"Median review length: {median_length}\")\n",
    "print(f\"95th percentile length: {p95_length}\")\n",
    "\n",
    "# Plotting the distribution of review lengths\n",
    "plt.figure(figsize=(10, 6))\n",
    "plt.hist(review_lengths, bins=50)\n",
    "plt.axvline(x=max_review_length, color='r', linestyle='--', label=f'Max: {max_review_length}')\n",
    "plt.axvline(x=p95_length, color='g', linestyle='--', label=f'95th: {p95_length:.0f}')\n",
    "plt.axvline(x=median_length, color='b', linestyle='--', label=f'Median: {median_length}')\n",
    "plt.title(\"Distribution of Review Lengths\")\n",
    "plt.xlabel(\"Length (number of tokens)\")\n",
    "plt.ylabel(\"Count\")\n",
    "plt.legend()\n",
    "plt.grid(True, alpha=0.3)\n",
    "plt.show()\n",
    "\n",
    "# Choose max_len based on 95th percentile to avoid excessive padding\n",
    "# while still covering most reviews without truncation\n",
    "chosen_max_len = int(p95_length)\n",
    "print(f\"Chosen max_len: {chosen_max_len}\")\n",
    "\n",
    "def encode_review(review, vocab, max_len=None):\n",
    "    \"\"\"Convert a review to a fixed-length sequence of integers\"\"\"\n",
    "    # Use the chosen max_len from analysis if none provided\n",
    "    if max_len is None:\n",
    "        max_len = chosen_max_len\n",
    "        \n",
    "    # Encode words, use <UNK> for unknown words\n",
    "    encoded = [vocab.get(word, vocab['<UNK>']) for word in review[:max_len]]\n",
    "    \n",
    "    # Pad sequences to the same length\n",
    "    if len(encoded) < max_len:\n",
    "        encoded += [vocab['<PAD>']] * (max_len - len(encoded))\n",
    "    \n",
    "    return encoded\n",
    "\n",
    "# Encode all reviews using the dynamically determined max_len\n",
    "train_encoded = [encode_review(review, vocab) for review in tqdm(train_reviews)]\n",
    "test_encoded = [encode_review(review, vocab) for review in tqdm(test_reviews)]\n",
    "\n",
    "# Convert to tensors\n",
    "train_sequences = torch.tensor(train_encoded, dtype=torch.long)\n",
    "train_labels_tensor = torch.tensor(train_labels, dtype=torch.float)\n",
    "test_sequences = torch.tensor(test_encoded, dtype=torch.long)\n",
    "test_labels_tensor = torch.tensor(test_labels, dtype=torch.float)\n",
    "\n",
    "print(f\"Data encoding complete! Example sequence: {train_sequences[0][:15]}...\")\n",
    "print(f\"All sequences are now of length {chosen_max_len}\")\n",
    "\n",
    "# Calculate how many reviews were truncated\n",
    "truncated_count = sum(1 for length in review_lengths if length > chosen_max_len)\n",
    "truncated_percentage = (truncated_count / len(review_lengths)) * 100\n",
    "print(f\"Reviews truncated: {truncated_count} ({truncated_percentage:.2f}%)\")\n"
   ]
  },
  {
   "cell_type": "code",
   "execution_count": 161,
   "id": "0b3c6929",
   "metadata": {},
   "outputs": [
    {
     "name": "stderr",
     "output_type": "stream",
     "text": [
      "  0%|          | 0/25000 [00:00<?, ?it/s]"
     ]
    },
    {
     "name": "stderr",
     "output_type": "stream",
     "text": [
      "100%|██████████| 25000/25000 [00:00<00:00, 39345.62it/s]\n",
      "100%|██████████| 25000/25000 [00:00<00:00, 38440.78it/s]\n"
     ]
    },
    {
     "name": "stdout",
     "output_type": "stream",
     "text": [
      "Data encoding complete! Example sequence: tensor([  11, 1511,   11,  237,    1,   36,   59,  390, 1132,   78,    5,   31,\n",
      "           2, 6947,   12])...\n"
     ]
    }
   ],
   "source": [
    "def encode_review(review, vocab, max_len=200):\n",
    "    \"\"\"Convert a review to a fixed-length sequence of integers\"\"\"\n",
    "    # Encode words, use <UNK> for unknown words\n",
    "    encoded = [vocab.get(word, vocab['<UNK>']) for word in review[:max_len]]\n",
    "    \n",
    "    # Pad sequences to the same length\n",
    "    if len(encoded) < max_len:\n",
    "        encoded += [vocab['<PAD>']] * (max_len - len(encoded))\n",
    "    \n",
    "    return encoded\n",
    "\n",
    "# Encode all reviews\n",
    "train_encoded = [encode_review(review, vocab) for review in tqdm(train_reviews)]\n",
    "test_encoded = [encode_review(review, vocab) for review in tqdm(test_reviews)]\n",
    "\n",
    "# Convert to tensors\n",
    "train_sequences = torch.tensor(train_encoded, dtype=torch.long)\n",
    "train_labels_tensor = torch.tensor(train_labels, dtype=torch.float)\n",
    "test_sequences = torch.tensor(test_encoded, dtype=torch.long)\n",
    "test_labels_tensor = torch.tensor(test_labels, dtype=torch.float)\n",
    "\n",
    "print(f\"Data encoding complete! Example sequence: {train_sequences[0][:15]}...\")\n"
   ]
  },
  {
   "cell_type": "code",
   "execution_count": 162,
   "id": "a1e8d0db",
   "metadata": {},
   "outputs": [
    {
     "name": "stdout",
     "output_type": "stream",
     "text": [
      "DataLoaders created! Training batches: 352\n"
     ]
    }
   ],
   "source": [
    "class IMDbDataset(Dataset):\n",
    "    def __init__(self, sequences, labels):\n",
    "        self.sequences = sequences\n",
    "        self.labels = labels\n",
    "    \n",
    "    def __len__(self):\n",
    "        return len(self.sequences)\n",
    "    \n",
    "    def __getitem__(self, idx):\n",
    "        return self.sequences[idx], self.labels[idx]\n",
    "\n",
    "# Create train/validation split\n",
    "train_seq, val_seq, train_labels, val_labels = train_test_split(\n",
    "    train_sequences, train_labels_tensor, test_size=0.1, random_state=42\n",
    ")\n",
    "\n",
    "# Create datasets\n",
    "train_dataset = IMDbDataset(train_seq, train_labels)\n",
    "val_dataset = IMDbDataset(val_seq, val_labels)\n",
    "test_dataset = IMDbDataset(test_sequences, test_labels_tensor)\n",
    "\n",
    "# Create dataloaders\n",
    "batch_size = 64\n",
    "train_loader = DataLoader(train_dataset, batch_size=batch_size, shuffle=True)\n",
    "val_loader = DataLoader(val_dataset, batch_size=batch_size)\n",
    "test_loader = DataLoader(test_dataset, batch_size=batch_size)\n",
    "\n",
    "print(f\"DataLoaders created! Training batches: {len(train_loader)}\")\n"
   ]
  },
  {
   "cell_type": "code",
   "execution_count": 163,
   "id": "9bf1355b",
   "metadata": {},
   "outputs": [
    {
     "name": "stdout",
     "output_type": "stream",
     "text": [
      "Model created and moved to cuda!\n",
      "SentimentLSTM(\n",
      "  (embedding): Embedding(10000, 100, padding_idx=0)\n",
      "  (lstm): LSTM(100, 256, num_layers=2, batch_first=True, dropout=0.5)\n",
      "  (dropout): Dropout(p=0.5, inplace=False)\n",
      "  (fc): Linear(in_features=256, out_features=1, bias=True)\n",
      ")\n"
     ]
    }
   ],
   "source": [
    "class SentimentLSTM(nn.Module):\n",
    "    def __init__(self, vocab_size, embedding_dim, hidden_dim, output_dim, n_layers=1, dropout=0.5):\n",
    "        super().__init__()\n",
    "        \n",
    "        # Embedding layer\n",
    "        self.embedding = nn.Embedding(vocab_size, embedding_dim, padding_idx=0)\n",
    "        \n",
    "        # LSTM layer\n",
    "        self.lstm = nn.LSTM(embedding_dim, \n",
    "                        hidden_dim, \n",
    "                        num_layers=n_layers, \n",
    "                        bidirectional=False, \n",
    "                        dropout=dropout if n_layers > 1 else 0,\n",
    "                        batch_first=True)\n",
    "        \n",
    "        # Dropout layer\n",
    "        self.dropout = nn.Dropout(dropout)\n",
    "        \n",
    "        # Fully connected layer\n",
    "        self.fc = nn.Linear(hidden_dim, output_dim)\n",
    "        \n",
    "    def forward(self, text):\n",
    "        # text shape: [batch_size, seq_len]\n",
    "        # Embed the text\n",
    "        embedded = self.embedding(text)  # [batch_size, seq_len, embedding_dim]\n",
    "        \n",
    "        # Pass through LSTM\n",
    "        lstm_out, (hidden, cell) = self.lstm(embedded)\n",
    "        # hidden shape: [n_layers, batch_size, hidden_dim]\n",
    "        \n",
    "        # Use the final hidden state\n",
    "        hidden = self.dropout(hidden[-1, :, :])  # [batch_size, hidden_dim]\n",
    "        \n",
    "        # Pass through linear layer\n",
    "        return self.fc(hidden)  # [batch_size, output_dim]\n",
    "\n",
    "# Initialize model\n",
    "embedding_dim = 100\n",
    "hidden_dim = 256\n",
    "output_dim = 1\n",
    "n_layers = 2\n",
    "\n",
    "model = SentimentLSTM(\n",
    "    vocab_size=vocab_size, \n",
    "    embedding_dim=embedding_dim, \n",
    "    hidden_dim=hidden_dim, \n",
    "    output_dim=output_dim,\n",
    "    n_layers=n_layers\n",
    ")\n",
    "\n",
    "# Move model to GPU if available\n",
    "device = torch.device('cuda' if torch.cuda.is_available() else 'cpu')\n",
    "model = model.to(device)\n",
    "print(f\"Model created and moved to {device}!\")\n",
    "print(model)"
   ]
  },
  {
   "cell_type": "code",
   "execution_count": 164,
   "id": "f569f559",
   "metadata": {},
   "outputs": [
    {
     "name": "stdout",
     "output_type": "stream",
     "text": [
      "Loss function and optimizer defined!\n"
     ]
    }
   ],
   "source": [
    "# Binary Cross Entropy Loss\n",
    "criterion = nn.BCEWithLogitsLoss()\n",
    "\n",
    "# Adam optimizer\n",
    "optimizer = optim.Adam(model.parameters(), lr=0.001)\n",
    "\n",
    "print(\"Loss function and optimizer defined!\")"
   ]
  },
  {
   "cell_type": "code",
   "execution_count": 165,
   "id": "fb9a7f8d",
   "metadata": {},
   "outputs": [],
   "source": [
    "def train(model, iterator, optimizer, criterion):\n",
    "    \"\"\"Training function for one epoch\"\"\"\n",
    "    # Set model to training mode\n",
    "    model.train()\n",
    "    \n",
    "    # Track loss\n",
    "    epoch_loss = 0\n",
    "    epoch_acc = 0\n",
    "    \n",
    "    # Iterate over batches\n",
    "    for batch in tqdm(iterator, desc=\"Training\"):\n",
    "        # Get batch data\n",
    "        text, labels = batch\n",
    "        text, labels = text.to(device), labels.float().to(device)\n",
    "        \n",
    "        # Zero gradients\n",
    "        optimizer.zero_grad()\n",
    "        \n",
    "        # Forward pass\n",
    "        predictions = model(text).squeeze(1)\n",
    "        \n",
    "        # Calculate loss\n",
    "        loss = criterion(predictions, labels)\n",
    "        \n",
    "        # Calculate accuracy\n",
    "        predicted_classes = torch.round(torch.sigmoid(predictions))\n",
    "        correct = (predicted_classes == labels).float()\n",
    "        accuracy = correct.sum() / len(correct)\n",
    "        \n",
    "        # Backward pass\n",
    "        loss.backward()\n",
    "        \n",
    "        # Update parameters\n",
    "        optimizer.step()\n",
    "        \n",
    "        # Update metrics\n",
    "        epoch_loss += loss.item()\n",
    "        epoch_acc += accuracy.item()\n",
    "    \n",
    "    # Return average loss and accuracy\n",
    "    return epoch_loss / len(iterator), epoch_acc / len(iterator)\n"
   ]
  },
  {
   "cell_type": "code",
   "execution_count": 166,
   "id": "dffd9f3d",
   "metadata": {},
   "outputs": [],
   "source": [
    "def evaluate(model, iterator, criterion):\n",
    "    \"\"\"Evaluation function\"\"\"\n",
    "    # Set model to evaluation mode\n",
    "    model.eval()\n",
    "    \n",
    "    # Track loss\n",
    "    epoch_loss = 0\n",
    "    epoch_acc = 0\n",
    "    \n",
    "    # No gradients needed for evaluation\n",
    "    with torch.no_grad():\n",
    "        # Iterate over batches\n",
    "        for batch in tqdm(iterator, desc=\"Evaluating\"):\n",
    "            # Get batch data\n",
    "            text, labels = batch\n",
    "            text, labels = text.to(device), labels.float().to(device)\n",
    "            \n",
    "            # Forward pass\n",
    "            predictions = model(text).squeeze(1)\n",
    "            \n",
    "            # Calculate loss\n",
    "            loss = criterion(predictions, labels)\n",
    "            \n",
    "            # Calculate accuracy\n",
    "            predicted_classes = torch.round(torch.sigmoid(predictions))\n",
    "            correct = (predicted_classes == labels).float()\n",
    "            accuracy = correct.sum() / len(correct)\n",
    "            \n",
    "            # Update metrics\n",
    "            epoch_loss += loss.item()\n",
    "            epoch_acc += accuracy.item()\n",
    "    \n",
    "    # Return average loss and accuracy\n",
    "    return epoch_loss / len(iterator), epoch_acc / len(iterator)\n"
   ]
  },
  {
   "cell_type": "code",
   "execution_count": 167,
   "id": "29851811",
   "metadata": {},
   "outputs": [
    {
     "name": "stdout",
     "output_type": "stream",
     "text": [
      "\n",
      "Epoch 1/2\n",
      "--------------------\n"
     ]
    },
    {
     "name": "stderr",
     "output_type": "stream",
     "text": [
      "Training: 100%|██████████| 352/352 [00:09<00:00, 38.90it/s]\n",
      "Evaluating: 100%|██████████| 40/40 [00:00<00:00, 84.05it/s]\n"
     ]
    },
    {
     "name": "stdout",
     "output_type": "stream",
     "text": [
      "Train Loss: 0.6946 | Train Acc: 50.65%\n",
      "Val Loss: 0.7018 | Val Acc: 48.71%\n",
      "\n",
      "Epoch 2/2\n",
      "--------------------\n"
     ]
    },
    {
     "name": "stderr",
     "output_type": "stream",
     "text": [
      "Training: 100%|██████████| 352/352 [00:09<00:00, 37.99it/s]\n",
      "Evaluating: 100%|██████████| 40/40 [00:00<00:00, 104.56it/s]"
     ]
    },
    {
     "name": "stdout",
     "output_type": "stream",
     "text": [
      "Train Loss: 0.6935 | Train Acc: 50.95%\n",
      "Val Loss: 0.6928 | Val Acc: 51.33%\n",
      "\n",
      "Training complete!\n"
     ]
    },
    {
     "name": "stderr",
     "output_type": "stream",
     "text": [
      "\n"
     ]
    }
   ],
   "source": [
    "n_epochs = 2\n",
    "\n",
    "# Lists to store metrics\n",
    "train_losses = []\n",
    "train_accs = []\n",
    "val_losses = []\n",
    "val_accs = []\n",
    "\n",
    "# Training loop\n",
    "for epoch in range(n_epochs):\n",
    "    print(f\"\\nEpoch {epoch+1}/{n_epochs}\")\n",
    "    print(\"-\" * 20)\n",
    "    \n",
    "    # Train\n",
    "    train_loss, train_acc = train(model, train_loader, optimizer, criterion)\n",
    "    train_losses.append(train_loss)\n",
    "    train_accs.append(train_acc)\n",
    "    \n",
    "    # Evaluate\n",
    "    val_loss, val_acc = evaluate(model, val_loader, criterion)\n",
    "    val_losses.append(val_loss)\n",
    "    val_accs.append(val_acc)\n",
    "    \n",
    "    # Print metrics\n",
    "    print(f\"Train Loss: {train_loss:.4f} | Train Acc: {train_acc*100:.2f}%\")\n",
    "    print(f\"Val Loss: {val_loss:.4f} | Val Acc: {val_acc*100:.2f}%\")\n",
    "\n",
    "print(\"\\nTraining complete!\")"
   ]
  },
  {
   "cell_type": "code",
   "execution_count": 168,
   "id": "2ce6f786",
   "metadata": {},
   "outputs": [
    {
     "data": {
      "image/png": "[encoded data removed]",
      "text/plain": [
       "<Figure size 1200x500 with 2 Axes>"
      ]
     },
     "metadata": {},
     "output_type": "display_data"
    }
   ],
   "source": [
    "plt.figure(figsize=(12, 5))\n",
    "\n",
    "# Plot loss\n",
    "plt.subplot(1, 2, 1)\n",
    "plt.plot(train_losses, label='Train Loss')\n",
    "plt.plot(val_losses, label='Val Loss')\n",
    "plt.xlabel('Epoch')\n",
    "plt.ylabel('Loss')\n",
    "plt.title('Training and Validation Loss')\n",
    "plt.legend()\n",
    "\n",
    "# Plot accuracy\n",
    "plt.subplot(1, 2, 2)\n",
    "plt.plot(train_accs, label='Train Acc')\n",
    "plt.plot(val_accs, label='Val Acc')\n",
    "plt.xlabel('Epoch')\n",
    "plt.ylabel('Accuracy')\n",
    "plt.title('Training and Validation Accuracy')\n",
    "plt.legend()\n",
    "\n",
    "plt.tight_layout()\n",
    "plt.show()\n"
   ]
  },
  {
   "cell_type": "code",
   "execution_count": 169,
   "id": "303abcdb",
   "metadata": {},
   "outputs": [
    {
     "name": "stderr",
     "output_type": "stream",
     "text": [
      "Evaluating: 100%|██████████| 391/391 [00:04<00:00, 93.77it/s] "
     ]
    },
    {
     "name": "stdout",
     "output_type": "stream",
     "text": [
      "Test Loss: 0.6932 | Test Acc: 49.95%\n"
     ]
    },
    {
     "name": "stderr",
     "output_type": "stream",
     "text": [
      "\n"
     ]
    }
   ],
   "source": [
    "test_loss, test_acc = evaluate(model, test_loader, criterion)\n",
    "print(f\"Test Loss: {test_loss:.4f} | Test Acc: {test_acc*100:.2f}%\")\n"
   ]
  },
  {
   "cell_type": "code",
   "execution_count": 170,
   "id": "16edbcdd",
   "metadata": {},
   "outputs": [
    {
     "name": "stdout",
     "output_type": "stream",
     "text": [
      "Model predictions on sample reviews:\n",
      "Review: This movie was absolutely amazing! The acting was ...\n",
      "Sentiment: Negative (probability: 0.4946)\n",
      "--------------------------------------------------\n",
      "Review: I was thoroughly disappointed with this film. The ...\n",
      "Sentiment: Negative (probability: 0.4946)\n",
      "--------------------------------------------------\n",
      "Review: It was okay. Nothing special but not terrible eith...\n",
      "Sentiment: Negative (probability: 0.4946)\n",
      "--------------------------------------------------\n",
      "Review: Despite some flaws in the plot, the movie had grea...\n",
      "Sentiment: Negative (probability: 0.4946)\n",
      "--------------------------------------------------\n"
     ]
    }
   ],
   "source": [
    "def predict_sentiment(model, text, vocab, max_len=200):\n",
    "    \"\"\"Predict sentiment for a single text input\"\"\"\n",
    "    # Preprocess\n",
    "    tokens = preprocess_text(text)\n",
    "    # Encode\n",
    "    encoded = encode_review(tokens, vocab, max_len)\n",
    "    # Convert to tensor\n",
    "    tensor = torch.tensor(encoded).unsqueeze(0).to(device)  # Add batch dimension\n",
    "    \n",
    "    # Set model to evaluation mode\n",
    "    model.eval()\n",
    "    \n",
    "    # Get prediction\n",
    "    with torch.no_grad():\n",
    "        prediction = torch.sigmoid(model(tensor).squeeze(1))\n",
    "    \n",
    "    # Return probability and sentiment\n",
    "    probability = prediction.item()\n",
    "    sentiment = \"Positive\" if probability >= 0.5 else \"Negative\"\n",
    "    \n",
    "    return probability, sentiment\n",
    "\n",
    "# Test on some examples\n",
    "sample_reviews = [\n",
    "    \"This movie was absolutely amazing! The acting was superb and the plot was engaging.\",\n",
    "    \"I was thoroughly disappointed with this film. The story made no sense and the acting was terrible.\",\n",
    "    \"It was okay. Nothing special but not terrible either.\",\n",
    "    \"Despite some flaws in the plot, the movie had great visual effects and good performances.\"\n",
    "]\n",
    "\n",
    "print(\"Model predictions on sample reviews:\")\n",
    "for review in sample_reviews:\n",
    "    prob, sent = predict_sentiment(model, review, vocab)\n",
    "    print(f\"Review: {review[:50]}...\")\n",
    "    print(f\"Sentiment: {sent} (probability: {prob:.4f})\")\n",
    "    print(\"-\" * 50)\n"
   ]
  },
  {
   "cell_type": "code",
   "execution_count": 171,
   "id": "f3261e5c",
   "metadata": {},
   "outputs": [
    {
     "name": "stdout",
     "output_type": "stream",
     "text": [
      "Model saved successfully!\n"
     ]
    }
   ],
   "source": [
    "# Save model\n",
    "torch.save({\n",
    "    'model_state_dict': model.state_dict(),\n",
    "    'vocab': vocab,\n",
    "    'model_params': {\n",
    "        'vocab_size': vocab_size,\n",
    "        'embedding_dim': embedding_dim,\n",
    "        'hidden_dim': hidden_dim,\n",
    "        'output_dim': output_dim,\n",
    "        'n_layers': n_layers\n",
    "    }\n",
    "}, 'lstm_sentiment_model.pt')\n",
    "\n",
    "print(\"Model saved successfully!\")"
   ]
  },
  {
   "cell_type": "markdown",
   "id": "68a449c4",
   "metadata": {},
   "source": [
    "Task :\n",
    "1. train a 1/3 layered network and compare the results\n",
    "2. change the task from many to one to many to many tasK"
   ]
  },
  {
   "cell_type": "markdown",
   "id": "8533509d",
   "metadata": {},
   "source": [
    "### Stacked layered network **WITH** bidirectional LSTM"
   ]
  },
  {
   "cell_type": "code",
   "execution_count": 172,
   "id": "e216aa25",
   "metadata": {},
   "outputs": [
    {
     "name": "stdout",
     "output_type": "stream",
     "text": [
      "Dataset loaded! Total training examples: 25000\n",
      "Sample review (text): I rented I AM CURIOUS-YELLOW from my video store because of all the controversy that surrounded it w...\n",
      "Sample label (0=negative, 1=positive): 0\n"
     ]
    }
   ],
   "source": [
    "# Download the dataset\n",
    "dataset = load_dataset(\"imdb\")\n",
    "\n",
    "# Get train and test data\n",
    "train_data = dataset[\"train\"]\n",
    "test_data = dataset[\"test\"]\n",
    "\n",
    "# Display sample data\n",
    "print(f\"Dataset loaded! Total training examples: {len(train_data)}\")\n",
    "print(f\"Sample review (text): {train_data[0]['text'][:100]}...\")\n",
    "print(f\"Sample label (0=negative, 1=positive): {train_data[0]['label']}\")"
   ]
  },
  {
   "cell_type": "code",
   "execution_count": 173,
   "id": "902e3359",
   "metadata": {},
   "outputs": [
    {
     "name": "stderr",
     "output_type": "stream",
     "text": [
      "100%|██████████| 25000/25000 [00:13<00:00, 1910.69it/s]\n",
      "100%|██████████| 25000/25000 [00:12<00:00, 1994.32it/s]"
     ]
    },
    {
     "name": "stdout",
     "output_type": "stream",
     "text": [
      "Data preprocessing complete! Example tokenized review: ['i', 'rented', 'i', 'am', 'curiousyellow', 'from', 'my', 'video', 'store', 'because', 'of', 'all', 'the', 'controversy', 'that']...\n",
      "Data preprocessing complete! Example tokenized label: 0...\n"
     ]
    },
    {
     "name": "stderr",
     "output_type": "stream",
     "text": [
      "\n"
     ]
    }
   ],
   "source": [
    "def preprocess_text(text):\n",
    "    \"\"\"Clean and tokenize the text\"\"\"\n",
    "    # Convert to lowercase\n",
    "    text = text.lower()\n",
    "    # Remove HTML tags\n",
    "    text = re.sub(r'<.*?>', '', text)\n",
    "    # Remove special characters and digits\n",
    "    text = re.sub(r'[^a-zA-Z\\s]', '', text)\n",
    "    # Tokenize\n",
    "    tokens = word_tokenize(text)\n",
    "    return tokens\n",
    "\n",
    "# Process training data\n",
    "train_reviews = []\n",
    "train_labels = []\n",
    "\n",
    "for sample in tqdm(train_data):\n",
    "    # Labels are already integers (0=negative, 1=positive)\n",
    "    label_int = sample['label']\n",
    "    train_labels.append(label_int)\n",
    "    # Preprocess text\n",
    "    tokens = preprocess_text(sample['text'])\n",
    "    train_reviews.append(tokens)\n",
    "\n",
    "# Process test data\n",
    "test_reviews = []\n",
    "test_labels = []\n",
    "\n",
    "for sample in tqdm(test_data):\n",
    "    label_int = sample['label']\n",
    "    test_labels.append(label_int)\n",
    "    tokens = preprocess_text(sample['text'])\n",
    "    test_reviews.append(tokens)\n",
    "\n",
    "print(f\"Data preprocessing complete! Example tokenized review: {train_reviews[0][:15]}...\")\n",
    "print(f\"Data preprocessing complete! Example tokenized label: {train_labels[0]}...\")\n"
   ]
  },
  {
   "cell_type": "code",
   "execution_count": 174,
   "id": "9606b326",
   "metadata": {},
   "outputs": [
    {
     "name": "stdout",
     "output_type": "stream",
     "text": [
      "Vocabulary created with 10000 words!\n",
      "Sample words: [('the', 2), ('and', 3), ('a', 4), ('of', 5), ('to', 6), ('is', 7), ('in', 8), ('it', 9), ('this', 10), ('i', 11)]\n"
     ]
    }
   ],
   "source": [
    "def build_vocab(reviews, max_words=10000):\n",
    "    \"\"\"Build a vocabulary of the most common words\"\"\"\n",
    "    word_count = Counter()\n",
    "    \n",
    "    # Count all words\n",
    "    for review in reviews:\n",
    "        word_count.update(review)\n",
    "    \n",
    "    # Select most common words\n",
    "    most_common = word_count.most_common(max_words - 2)  # -2 for <UNK> and <PAD>\n",
    "    vocab = {word: idx+2 for idx, (word, _) in enumerate(most_common)}\n",
    "    \n",
    "    # Add special tokens\n",
    "    vocab['<PAD>'] = 0\n",
    "    vocab['<UNK>'] = 1\n",
    "    \n",
    "    return vocab\n",
    "\n",
    "# Build vocabulary from training data\n",
    "vocab = build_vocab(train_reviews)\n",
    "vocab_size = len(vocab)\n",
    "\n",
    "print(f\"Vocabulary created with {vocab_size} words!\")\n",
    "print(f\"Sample words: {list(vocab.items())[:10]}\")\n",
    "\n",
    "# Create a reverse mapping for decoding\n",
    "idx_to_word = {idx: word for word, idx in vocab.items()}\n"
   ]
  },
  {
   "cell_type": "code",
   "execution_count": 175,
   "id": "9aeea8a5",
   "metadata": {},
   "outputs": [
    {
     "name": "stdout",
     "output_type": "stream",
     "text": [
      "Maximum review length: 2441\n",
      "Mean review length: 227.81\n",
      "Median review length: 170.0\n",
      "95th percentile length: 583.0\n"
     ]
    },
    {
     "data": {
      "image/png": "[encoded data removed]",
      "text/plain": [
       "<Figure size 1000x600 with 1 Axes>"
      ]
     },
     "metadata": {},
     "output_type": "display_data"
    },
    {
     "name": "stdout",
     "output_type": "stream",
     "text": [
      "Chosen max_len: 583\n"
     ]
    },
    {
     "name": "stderr",
     "output_type": "stream",
     "text": [
      "100%|██████████| 25000/25000 [00:01<00:00, 17545.00it/s]\n",
      "100%|██████████| 25000/25000 [00:00<00:00, 28808.72it/s]\n"
     ]
    },
    {
     "name": "stdout",
     "output_type": "stream",
     "text": [
      "Data encoding complete! Example sequence: tensor([  11, 1511,   11,  237,    1,   36,   59,  390, 1132,   78,    5,   31,\n",
      "           2, 6947,   12])...\n",
      "All sequences are now of length 583\n",
      "Reviews truncated: 1245 (4.98%)\n"
     ]
    }
   ],
   "source": [
    "# Analyze review lengths to determine optimal max_len\n",
    "review_lengths = [len(review) for review in train_reviews]\n",
    "max_review_length = max(review_lengths)\n",
    "mean_length = np.mean(review_lengths)\n",
    "median_length = np.median(review_lengths)\n",
    "p95_length = np.percentile(review_lengths, 95)\n",
    "\n",
    "print(f\"Maximum review length: {max_review_length}\")\n",
    "print(f\"Mean review length: {mean_length:.2f}\")\n",
    "print(f\"Median review length: {median_length}\")\n",
    "print(f\"95th percentile length: {p95_length}\")\n",
    "\n",
    "# Plotting the distribution of review lengths\n",
    "plt.figure(figsize=(10, 6))\n",
    "plt.hist(review_lengths, bins=50)\n",
    "plt.axvline(x=max_review_length, color='r', linestyle='--', label=f'Max: {max_review_length}')\n",
    "plt.axvline(x=p95_length, color='g', linestyle='--', label=f'95th: {p95_length:.0f}')\n",
    "plt.axvline(x=median_length, color='b', linestyle='--', label=f'Median: {median_length}')\n",
    "plt.title(\"Distribution of Review Lengths\")\n",
    "plt.xlabel(\"Length (number of tokens)\")\n",
    "plt.ylabel(\"Count\")\n",
    "plt.legend()\n",
    "plt.grid(True, alpha=0.3)\n",
    "plt.show()\n",
    "\n",
    "# Choose max_len based on 95th percentile to avoid excessive padding\n",
    "# while still covering most reviews without truncation\n",
    "chosen_max_len = int(p95_length)\n",
    "print(f\"Chosen max_len: {chosen_max_len}\")\n",
    "\n",
    "def encode_review(review, vocab, max_len=None):\n",
    "    \"\"\"Convert a review to a fixed-length sequence of integers\"\"\"\n",
    "    # Use the chosen max_len from analysis if none provided\n",
    "    if max_len is None:\n",
    "        max_len = chosen_max_len\n",
    "        \n",
    "    # Encode words, use <UNK> for unknown words\n",
    "    encoded = [vocab.get(word, vocab['<UNK>']) for word in review[:max_len]]\n",
    "    \n",
    "    # Pad sequences to the same length\n",
    "    if len(encoded) < max_len:\n",
    "        encoded += [vocab['<PAD>']] * (max_len - len(encoded))\n",
    "    \n",
    "    return encoded\n",
    "\n",
    "# Encode all reviews using the dynamically determined max_len\n",
    "train_encoded = [encode_review(review, vocab) for review in tqdm(train_reviews)]\n",
    "test_encoded = [encode_review(review, vocab) for review in tqdm(test_reviews)]\n",
    "\n",
    "# Convert to tensors\n",
    "train_sequences = torch.tensor(train_encoded, dtype=torch.long)\n",
    "train_labels_tensor = torch.tensor(train_labels, dtype=torch.float)\n",
    "test_sequences = torch.tensor(test_encoded, dtype=torch.long)\n",
    "test_labels_tensor = torch.tensor(test_labels, dtype=torch.float)\n",
    "\n",
    "print(f\"Data encoding complete! Example sequence: {train_sequences[0][:15]}...\")\n",
    "print(f\"All sequences are now of length {chosen_max_len}\")\n",
    "\n",
    "# Calculate how many reviews were truncated\n",
    "truncated_count = sum(1 for length in review_lengths if length > chosen_max_len)\n",
    "truncated_percentage = (truncated_count / len(review_lengths)) * 100\n",
    "print(f\"Reviews truncated: {truncated_count} ({truncated_percentage:.2f}%)\")\n"
   ]
  },
  {
   "cell_type": "code",
   "execution_count": 176,
   "id": "6804c954",
   "metadata": {},
   "outputs": [
    {
     "name": "stderr",
     "output_type": "stream",
     "text": [
      "100%|██████████| 25000/25000 [00:00<00:00, 41392.55it/s]\n",
      "100%|██████████| 25000/25000 [00:00<00:00, 43314.10it/s]\n"
     ]
    },
    {
     "name": "stdout",
     "output_type": "stream",
     "text": [
      "Data encoding complete! Example sequence: tensor([  11, 1511,   11,  237,    1,   36,   59,  390, 1132,   78,    5,   31,\n",
      "           2, 6947,   12])...\n"
     ]
    }
   ],
   "source": [
    "def encode_review(review, vocab, max_len=200):\n",
    "    \"\"\"Convert a review to a fixed-length sequence of integers\"\"\"\n",
    "    # Encode words, use <UNK> for unknown words\n",
    "    encoded = [vocab.get(word, vocab['<UNK>']) for word in review[:max_len]]\n",
    "    \n",
    "    # Pad sequences to the same length\n",
    "    if len(encoded) < max_len:\n",
    "        encoded += [vocab['<PAD>']] * (max_len - len(encoded))\n",
    "    \n",
    "    return encoded\n",
    "\n",
    "# Encode all reviews\n",
    "train_encoded = [encode_review(review, vocab) for review in tqdm(train_reviews)]\n",
    "test_encoded = [encode_review(review, vocab) for review in tqdm(test_reviews)]\n",
    "\n",
    "# Convert to tensors\n",
    "train_sequences = torch.tensor(train_encoded, dtype=torch.long)\n",
    "train_labels_tensor = torch.tensor(train_labels, dtype=torch.float)\n",
    "test_sequences = torch.tensor(test_encoded, dtype=torch.long)\n",
    "test_labels_tensor = torch.tensor(test_labels, dtype=torch.float)\n",
    "\n",
    "print(f\"Data encoding complete! Example sequence: {train_sequences[0][:15]}...\")\n"
   ]
  },
  {
   "cell_type": "code",
   "execution_count": 177,
   "id": "7796bf38",
   "metadata": {},
   "outputs": [
    {
     "name": "stdout",
     "output_type": "stream",
     "text": [
      "DataLoaders created! Training batches: 352\n"
     ]
    }
   ],
   "source": [
    "class IMDbDataset(Dataset):\n",
    "    def __init__(self, sequences, labels):\n",
    "        self.sequences = sequences\n",
    "        self.labels = labels\n",
    "    \n",
    "    def __len__(self):\n",
    "        return len(self.sequences)\n",
    "    \n",
    "    def __getitem__(self, idx):\n",
    "        return self.sequences[idx], self.labels[idx]\n",
    "\n",
    "# Create train/validation split\n",
    "train_seq, val_seq, train_labels, val_labels = train_test_split(\n",
    "    train_sequences, train_labels_tensor, test_size=0.1, random_state=42\n",
    ")\n",
    "\n",
    "# Create datasets\n",
    "train_dataset = IMDbDataset(train_seq, train_labels)\n",
    "val_dataset = IMDbDataset(val_seq, val_labels)\n",
    "test_dataset = IMDbDataset(test_sequences, test_labels_tensor)\n",
    "\n",
    "# Create dataloaders\n",
    "batch_size = 64\n",
    "train_loader = DataLoader(train_dataset, batch_size=batch_size, shuffle=True)\n",
    "val_loader = DataLoader(val_dataset, batch_size=batch_size)\n",
    "test_loader = DataLoader(test_dataset, batch_size=batch_size)\n",
    "\n",
    "print(f\"DataLoaders created! Training batches: {len(train_loader)}\")"
   ]
  },
  {
   "cell_type": "code",
   "execution_count": 178,
   "id": "524ceccf",
   "metadata": {},
   "outputs": [],
   "source": [
    "class StackedBiLSTM(nn.Module):\n",
    "    def __init__(self, vocab_size, embedding_dim, hidden_dim, output_dim, n_layers, dropout=0.5):\n",
    "        super(StackedBiLSTM, self).__init__()\n",
    "        \n",
    "        self.embedding = nn.Embedding(vocab_size, embedding_dim)\n",
    "        \n",
    "        self.lstm = nn.LSTM(input_size=embedding_dim,\n",
    "                            hidden_size=hidden_dim,\n",
    "                            num_layers=n_layers,\n",
    "                            dropout=dropout if n_layers > 1 else 0,\n",
    "                            bidirectional=True,\n",
    "                            batch_first=True)\n",
    "        \n",
    "        self.fc = nn.Linear(hidden_dim * 2, output_dim)  # *2 for bidirectional\n",
    "        self.dropout = nn.Dropout(dropout)\n",
    "\n",
    "    def forward(self, x):\n",
    "        embedded = self.dropout(self.embedding(x))           # [batch_size, seq_len, embedding_dim]\n",
    "        outputs, _ = self.lstm(embedded)                      # [batch_size, seq_len, hidden_dim*2]\n",
    "        final_hidden = self.dropout(outputs[:, -1, :])       # last time step\n",
    "        return self.fc(final_hidden)\n"
   ]
  },
  {
   "cell_type": "code",
   "execution_count": 179,
   "id": "8c55890a",
   "metadata": {},
   "outputs": [],
   "source": [
    "model = StackedBiLSTM(\n",
    "    vocab_size=vocab_size,\n",
    "    embedding_dim=embedding_dim,\n",
    "    hidden_dim=hidden_dim,\n",
    "    output_dim=output_dim,\n",
    "    n_layers=n_layers\n",
    ").to(device)"
   ]
  },
  {
   "cell_type": "code",
   "execution_count": 180,
   "id": "ad0f0012",
   "metadata": {},
   "outputs": [
    {
     "name": "stdout",
     "output_type": "stream",
     "text": [
      "Loss function and optimizer defined!\n"
     ]
    }
   ],
   "source": [
    "# Binary Cross Entropy Loss\n",
    "criterion = nn.BCEWithLogitsLoss()\n",
    "\n",
    "# Adam optimizer\n",
    "optimizer = optim.Adam(model.parameters(), lr=0.001)\n",
    "\n",
    "print(\"Loss function and optimizer defined!\")"
   ]
  },
  {
   "cell_type": "code",
   "execution_count": 181,
   "id": "130d57a6",
   "metadata": {},
   "outputs": [
    {
     "name": "stdout",
     "output_type": "stream",
     "text": [
      "\n",
      "Epoch 1/10\n",
      "--------------------\n"
     ]
    },
    {
     "name": "stderr",
     "output_type": "stream",
     "text": [
      "Training: 100%|██████████| 352/352 [00:19<00:00, 18.02it/s]\n",
      "Evaluating: 100%|██████████| 40/40 [00:00<00:00, 53.55it/s]\n"
     ]
    },
    {
     "name": "stdout",
     "output_type": "stream",
     "text": [
      "Train Loss: 0.6945 | Train Acc: 50.48%\n",
      "Val Loss: 0.6931 | Val Acc: 52.03%\n",
      "\n",
      "Epoch 2/10\n",
      "--------------------\n"
     ]
    },
    {
     "name": "stderr",
     "output_type": "stream",
     "text": [
      "Training: 100%|██████████| 352/352 [00:17<00:00, 19.57it/s]\n",
      "Evaluating: 100%|██████████| 40/40 [00:00<00:00, 54.62it/s]\n"
     ]
    },
    {
     "name": "stdout",
     "output_type": "stream",
     "text": [
      "Train Loss: 0.6928 | Train Acc: 51.65%\n",
      "Val Loss: 0.6935 | Val Acc: 53.95%\n",
      "\n",
      "Epoch 3/10\n",
      "--------------------\n"
     ]
    },
    {
     "name": "stderr",
     "output_type": "stream",
     "text": [
      "Training: 100%|██████████| 352/352 [00:17<00:00, 19.64it/s]\n",
      "Evaluating: 100%|██████████| 40/40 [00:00<00:00, 53.95it/s]\n"
     ]
    },
    {
     "name": "stdout",
     "output_type": "stream",
     "text": [
      "Train Loss: 0.6931 | Train Acc: 50.97%\n",
      "Val Loss: 0.6899 | Val Acc: 53.32%\n",
      "\n",
      "Epoch 4/10\n",
      "--------------------\n"
     ]
    },
    {
     "name": "stderr",
     "output_type": "stream",
     "text": [
      "Training: 100%|██████████| 352/352 [00:17<00:00, 19.96it/s]\n",
      "Evaluating: 100%|██████████| 40/40 [00:00<00:00, 53.75it/s]\n"
     ]
    },
    {
     "name": "stdout",
     "output_type": "stream",
     "text": [
      "Train Loss: 0.6823 | Train Acc: 56.11%\n",
      "Val Loss: 0.6698 | Val Acc: 61.60%\n",
      "\n",
      "Epoch 5/10\n",
      "--------------------\n"
     ]
    },
    {
     "name": "stderr",
     "output_type": "stream",
     "text": [
      "Training: 100%|██████████| 352/352 [00:18<00:00, 19.15it/s]\n",
      "Evaluating: 100%|██████████| 40/40 [00:00<00:00, 59.71it/s]\n"
     ]
    },
    {
     "name": "stdout",
     "output_type": "stream",
     "text": [
      "Train Loss: 0.6627 | Train Acc: 60.92%\n",
      "Val Loss: 0.6312 | Val Acc: 66.56%\n",
      "\n",
      "Epoch 6/10\n",
      "--------------------\n"
     ]
    },
    {
     "name": "stderr",
     "output_type": "stream",
     "text": [
      "Training: 100%|██████████| 352/352 [00:18<00:00, 18.88it/s]\n",
      "Evaluating: 100%|██████████| 40/40 [00:00<00:00, 59.23it/s]\n"
     ]
    },
    {
     "name": "stdout",
     "output_type": "stream",
     "text": [
      "Train Loss: 0.5983 | Train Acc: 69.23%\n",
      "Val Loss: 0.6402 | Val Acc: 64.53%\n",
      "\n",
      "Epoch 7/10\n",
      "--------------------\n"
     ]
    },
    {
     "name": "stderr",
     "output_type": "stream",
     "text": [
      "Training: 100%|██████████| 352/352 [00:17<00:00, 19.59it/s]\n",
      "Evaluating: 100%|██████████| 40/40 [00:00<00:00, 52.49it/s]\n"
     ]
    },
    {
     "name": "stdout",
     "output_type": "stream",
     "text": [
      "Train Loss: 0.5788 | Train Acc: 71.15%\n",
      "Val Loss: 0.5885 | Val Acc: 70.43%\n",
      "\n",
      "Epoch 8/10\n",
      "--------------------\n"
     ]
    },
    {
     "name": "stderr",
     "output_type": "stream",
     "text": [
      "Training: 100%|██████████| 352/352 [00:18<00:00, 19.25it/s]\n",
      "Evaluating: 100%|██████████| 40/40 [00:00<00:00, 52.74it/s]\n"
     ]
    },
    {
     "name": "stdout",
     "output_type": "stream",
     "text": [
      "Train Loss: 0.5361 | Train Acc: 74.52%\n",
      "Val Loss: 0.4934 | Val Acc: 78.01%\n",
      "\n",
      "Epoch 9/10\n",
      "--------------------\n"
     ]
    },
    {
     "name": "stderr",
     "output_type": "stream",
     "text": [
      "Training: 100%|██████████| 352/352 [00:17<00:00, 19.74it/s]\n",
      "Evaluating: 100%|██████████| 40/40 [00:00<00:00, 56.85it/s]\n"
     ]
    },
    {
     "name": "stdout",
     "output_type": "stream",
     "text": [
      "Train Loss: 0.4635 | Train Acc: 79.63%\n",
      "Val Loss: 0.4536 | Val Acc: 80.86%\n",
      "\n",
      "Epoch 10/10\n",
      "--------------------\n"
     ]
    },
    {
     "name": "stderr",
     "output_type": "stream",
     "text": [
      "Training: 100%|██████████| 352/352 [00:18<00:00, 19.00it/s]\n",
      "Evaluating: 100%|██████████| 40/40 [00:00<00:00, 56.31it/s]"
     ]
    },
    {
     "name": "stdout",
     "output_type": "stream",
     "text": [
      "Train Loss: 0.4239 | Train Acc: 81.44%\n",
      "Val Loss: 0.4141 | Val Acc: 82.19%\n",
      "\n",
      "Training complete!\n"
     ]
    },
    {
     "name": "stderr",
     "output_type": "stream",
     "text": [
      "\n"
     ]
    }
   ],
   "source": [
    "n_epochs = 10\n",
    "\n",
    "# Lists to store metrics\n",
    "train_losses = []\n",
    "train_accs = []\n",
    "val_losses = []\n",
    "val_accs = []\n",
    "\n",
    "# Training loop\n",
    "for epoch in range(n_epochs):\n",
    "    print(f\"\\nEpoch {epoch+1}/{n_epochs}\")\n",
    "    print(\"-\" * 20)\n",
    "    \n",
    "    # Train\n",
    "    train_loss, train_acc = train(model, train_loader, optimizer, criterion)\n",
    "    train_losses.append(train_loss)\n",
    "    train_accs.append(train_acc)\n",
    "    \n",
    "    # Evaluate\n",
    "    val_loss, val_acc = evaluate(model, val_loader, criterion)\n",
    "    val_losses.append(val_loss)\n",
    "    val_accs.append(val_acc)\n",
    "    \n",
    "    # Print metrics\n",
    "    print(f\"Train Loss: {train_loss:.4f} | Train Acc: {train_acc*100:.2f}%\")\n",
    "    print(f\"Val Loss: {val_loss:.4f} | Val Acc: {val_acc*100:.2f}%\")\n",
    "\n",
    "print(\"\\nTraining complete!\")"
   ]
  },
  {
   "cell_type": "code",
   "execution_count": 182,
   "id": "2afb2eac",
   "metadata": {},
   "outputs": [
    {
     "data": {
      "image/png": "[encoded data removed]",
      "text/plain": [
       "<Figure size 1200x500 with 2 Axes>"
      ]
     },
     "metadata": {},
     "output_type": "display_data"
    }
   ],
   "source": [
    "plt.figure(figsize=(12, 5))\n",
    "\n",
    "# Plot loss\n",
    "plt.subplot(1, 2, 1)\n",
    "plt.plot(train_losses, label='Train Loss')\n",
    "plt.plot(val_losses, label='Val Loss')\n",
    "plt.xlabel('Epoch')\n",
    "plt.ylabel('Loss')\n",
    "plt.title('Training and Validation Loss')\n",
    "plt.legend()\n",
    "\n",
    "# Plot accuracy\n",
    "plt.subplot(1, 2, 2)\n",
    "plt.plot(train_accs, label='Train Acc')\n",
    "plt.plot(val_accs, label='Val Acc')\n",
    "plt.xlabel('Epoch')\n",
    "plt.ylabel('Accuracy')\n",
    "plt.title('Training and Validation Accuracy')\n",
    "plt.legend()\n",
    "\n",
    "plt.tight_layout()\n",
    "plt.show()\n"
   ]
  },
  {
   "cell_type": "code",
   "execution_count": 183,
   "id": "14201be1",
   "metadata": {},
   "outputs": [
    {
     "name": "stderr",
     "output_type": "stream",
     "text": [
      "Evaluating: 100%|██████████| 391/391 [00:07<00:00, 52.91it/s]"
     ]
    },
    {
     "name": "stdout",
     "output_type": "stream",
     "text": [
      "Test Loss: 0.4150 | Test Acc: 82.04%\n"
     ]
    },
    {
     "name": "stderr",
     "output_type": "stream",
     "text": [
      "\n"
     ]
    }
   ],
   "source": [
    "test_loss, test_acc = evaluate(model, test_loader, criterion)\n",
    "print(f\"Test Loss: {test_loss:.4f} | Test Acc: {test_acc*100:.2f}%\")"
   ]
  },
  {
   "cell_type": "code",
   "execution_count": 184,
   "id": "04f56efa",
   "metadata": {},
   "outputs": [
    {
     "name": "stdout",
     "output_type": "stream",
     "text": [
      "Model predictions on sample reviews:\n",
      "Review: This movie was absolutely amazing! The acting was ...\n",
      "Sentiment: Negative (probability: 0.4769)\n",
      "--------------------------------------------------\n",
      "Review: I was thoroughly disappointed with this film. The ...\n",
      "Sentiment: Negative (probability: 0.1728)\n",
      "--------------------------------------------------\n",
      "Review: It was okay. Nothing special but not terrible eith...\n",
      "Sentiment: Negative (probability: 0.3443)\n",
      "--------------------------------------------------\n",
      "Review: Despite some flaws in the plot, the movie had grea...\n",
      "Sentiment: Positive (probability: 0.8784)\n",
      "--------------------------------------------------\n"
     ]
    }
   ],
   "source": [
    "# Test on some examples\n",
    "sample_reviews = [\n",
    "    \"This movie was absolutely amazing! The acting was superb and the plot was engaging.\",\n",
    "    \"I was thoroughly disappointed with this film. The story made no sense and the acting was terrible.\",\n",
    "    \"It was okay. Nothing special but not terrible either.\",\n",
    "    \"Despite some flaws in the plot, the movie had great visual effects and good performances.\"\n",
    "]\n",
    "\n",
    "print(\"Model predictions on sample reviews:\")\n",
    "for review in sample_reviews:\n",
    "    prob, sent = predict_sentiment(model, review, vocab)\n",
    "    print(f\"Review: {review[:50]}...\")\n",
    "    print(f\"Sentiment: {sent} (probability: {prob:.4f})\")\n",
    "    print(\"-\" * 50)"
   ]
  },
  {
   "cell_type": "markdown",
   "id": "f1168714",
   "metadata": {},
   "source": [
    "### Stacked layered network **WITHOUT** bidirectional LSTM"
   ]
  },
  {
   "cell_type": "code",
   "execution_count": 185,
   "id": "f899b355",
   "metadata": {},
   "outputs": [
    {
     "name": "stdout",
     "output_type": "stream",
     "text": [
      "Dataset loaded! Total training examples: 25000\n",
      "Sample review (text): I rented I AM CURIOUS-YELLOW from my video store because of all the controversy that surrounded it w...\n",
      "Sample label (0=negative, 1=positive): 0\n"
     ]
    }
   ],
   "source": [
    "# Download the dataset\n",
    "dataset = load_dataset(\"imdb\")\n",
    "\n",
    "# Get train and test data\n",
    "train_data = dataset[\"train\"]\n",
    "test_data = dataset[\"test\"]\n",
    "\n",
    "# Display sample data\n",
    "print(f\"Dataset loaded! Total training examples: {len(train_data)}\")\n",
    "print(f\"Sample review (text): {train_data[0]['text'][:100]}...\")\n",
    "print(f\"Sample label (0=negative, 1=positive): {train_data[0]['label']}\")"
   ]
  },
  {
   "cell_type": "code",
   "execution_count": 186,
   "id": "9f638d9d",
   "metadata": {},
   "outputs": [
    {
     "name": "stderr",
     "output_type": "stream",
     "text": [
      "100%|██████████| 25000/25000 [00:13<00:00, 1902.81it/s]\n",
      "100%|██████████| 25000/25000 [00:12<00:00, 1977.86it/s]"
     ]
    },
    {
     "name": "stdout",
     "output_type": "stream",
     "text": [
      "Data preprocessing complete! Example tokenized review: ['i', 'rented', 'i', 'am', 'curiousyellow', 'from', 'my', 'video', 'store', 'because', 'of', 'all', 'the', 'controversy', 'that']...\n",
      "Data preprocessing complete! Example tokenized label: 0...\n"
     ]
    },
    {
     "name": "stderr",
     "output_type": "stream",
     "text": [
      "\n"
     ]
    }
   ],
   "source": [
    "def preprocess_text(text):\n",
    "    \"\"\"Clean and tokenize the text\"\"\"\n",
    "    # Convert to lowercase\n",
    "    text = text.lower()\n",
    "    # Remove HTML tags\n",
    "    text = re.sub(r'<.*?>', '', text)\n",
    "    # Remove special characters and digits\n",
    "    text = re.sub(r'[^a-zA-Z\\s]', '', text)\n",
    "    # Tokenize\n",
    "    tokens = word_tokenize(text)\n",
    "    return tokens\n",
    "\n",
    "# Process training data\n",
    "train_reviews = []\n",
    "train_labels = []\n",
    "\n",
    "for sample in tqdm(train_data):\n",
    "    # Labels are already integers (0=negative, 1=positive)\n",
    "    label_int = sample['label']\n",
    "    train_labels.append(label_int)\n",
    "    # Preprocess text\n",
    "    tokens = preprocess_text(sample['text'])\n",
    "    train_reviews.append(tokens)\n",
    "\n",
    "# Process test data\n",
    "test_reviews = []\n",
    "test_labels = []\n",
    "\n",
    "for sample in tqdm(test_data):\n",
    "    label_int = sample['label']\n",
    "    test_labels.append(label_int)\n",
    "    tokens = preprocess_text(sample['text'])\n",
    "    test_reviews.append(tokens)\n",
    "\n",
    "print(f\"Data preprocessing complete! Example tokenized review: {train_reviews[0][:15]}...\")\n",
    "print(f\"Data preprocessing complete! Example tokenized label: {train_labels[0]}...\")\n"
   ]
  },
  {
   "cell_type": "code",
   "execution_count": 187,
   "id": "fbe1b3ed",
   "metadata": {},
   "outputs": [
    {
     "name": "stdout",
     "output_type": "stream",
     "text": [
      "Vocabulary created with 10000 words!\n",
      "Sample words: [('the', 2), ('and', 3), ('a', 4), ('of', 5), ('to', 6), ('is', 7), ('in', 8), ('it', 9), ('this', 10), ('i', 11)]\n"
     ]
    }
   ],
   "source": [
    "def build_vocab(reviews, max_words=10000):\n",
    "    \"\"\"Build a vocabulary of the most common words\"\"\"\n",
    "    word_count = Counter()\n",
    "    \n",
    "    # Count all words\n",
    "    for review in reviews:\n",
    "        word_count.update(review)\n",
    "    \n",
    "    # Select most common words\n",
    "    most_common = word_count.most_common(max_words - 2)  # -2 for <UNK> and <PAD>\n",
    "    vocab = {word: idx+2 for idx, (word, _) in enumerate(most_common)}\n",
    "    \n",
    "    # Add special tokens\n",
    "    vocab['<PAD>'] = 0\n",
    "    vocab['<UNK>'] = 1\n",
    "    \n",
    "    return vocab\n",
    "\n",
    "# Build vocabulary from training data\n",
    "vocab = build_vocab(train_reviews)\n",
    "vocab_size = len(vocab)\n",
    "\n",
    "print(f\"Vocabulary created with {vocab_size} words!\")\n",
    "print(f\"Sample words: {list(vocab.items())[:10]}\")\n",
    "\n",
    "# Create a reverse mapping for decoding\n",
    "idx_to_word = {idx: word for word, idx in vocab.items()}\n"
   ]
  },
  {
   "cell_type": "code",
   "execution_count": 188,
   "id": "0f4016e4",
   "metadata": {},
   "outputs": [
    {
     "name": "stdout",
     "output_type": "stream",
     "text": [
      "Maximum review length: 2441\n",
      "Mean review length: 227.81\n",
      "Median review length: 170.0\n",
      "95th percentile length: 583.0\n"
     ]
    },
    {
     "data": {
      "image/png": "[encoded data removed]",
      "text/plain": [
       "<Figure size 1000x600 with 1 Axes>"
      ]
     },
     "metadata": {},
     "output_type": "display_data"
    },
    {
     "name": "stdout",
     "output_type": "stream",
     "text": [
      "Chosen max_len: 583\n"
     ]
    },
    {
     "name": "stderr",
     "output_type": "stream",
     "text": [
      "100%|██████████| 25000/25000 [00:01<00:00, 17392.95it/s]\n",
      "100%|██████████| 25000/25000 [00:00<00:00, 30612.98it/s]\n"
     ]
    },
    {
     "name": "stdout",
     "output_type": "stream",
     "text": [
      "Data encoding complete! Example sequence: tensor([  11, 1511,   11,  237,    1,   36,   59,  390, 1132,   78,    5,   31,\n",
      "           2, 6947,   12])...\n",
      "All sequences are now of length 583\n",
      "Reviews truncated: 1245 (4.98%)\n"
     ]
    }
   ],
   "source": [
    "# Analyze review lengths to determine optimal max_len\n",
    "review_lengths = [len(review) for review in train_reviews]\n",
    "max_review_length = max(review_lengths)\n",
    "mean_length = np.mean(review_lengths)\n",
    "median_length = np.median(review_lengths)\n",
    "p95_length = np.percentile(review_lengths, 95)\n",
    "\n",
    "print(f\"Maximum review length: {max_review_length}\")\n",
    "print(f\"Mean review length: {mean_length:.2f}\")\n",
    "print(f\"Median review length: {median_length}\")\n",
    "print(f\"95th percentile length: {p95_length}\")\n",
    "\n",
    "# Plotting the distribution of review lengths\n",
    "plt.figure(figsize=(10, 6))\n",
    "plt.hist(review_lengths, bins=50)\n",
    "plt.axvline(x=max_review_length, color='r', linestyle='--', label=f'Max: {max_review_length}')\n",
    "plt.axvline(x=p95_length, color='g', linestyle='--', label=f'95th: {p95_length:.0f}')\n",
    "plt.axvline(x=median_length, color='b', linestyle='--', label=f'Median: {median_length}')\n",
    "plt.title(\"Distribution of Review Lengths\")\n",
    "plt.xlabel(\"Length (number of tokens)\")\n",
    "plt.ylabel(\"Count\")\n",
    "plt.legend()\n",
    "plt.grid(True, alpha=0.3)\n",
    "plt.show()\n",
    "\n",
    "# Choose max_len based on 95th percentile to avoid excessive padding\n",
    "# while still covering most reviews without truncation\n",
    "chosen_max_len = int(p95_length)\n",
    "print(f\"Chosen max_len: {chosen_max_len}\")\n",
    "\n",
    "def encode_review(review, vocab, max_len=None):\n",
    "    \"\"\"Convert a review to a fixed-length sequence of integers\"\"\"\n",
    "    # Use the chosen max_len from analysis if none provided\n",
    "    if max_len is None:\n",
    "        max_len = chosen_max_len\n",
    "        \n",
    "    # Encode words, use <UNK> for unknown words\n",
    "    encoded = [vocab.get(word, vocab['<UNK>']) for word in review[:max_len]]\n",
    "    \n",
    "    # Pad sequences to the same length\n",
    "    if len(encoded) < max_len:\n",
    "        encoded += [vocab['<PAD>']] * (max_len - len(encoded))\n",
    "    \n",
    "    return encoded\n",
    "\n",
    "# Encode all reviews using the dynamically determined max_len\n",
    "train_encoded = [encode_review(review, vocab) for review in tqdm(train_reviews)]\n",
    "test_encoded = [encode_review(review, vocab) for review in tqdm(test_reviews)]\n",
    "\n",
    "# Convert to tensors\n",
    "train_sequences = torch.tensor(train_encoded, dtype=torch.long)\n",
    "train_labels_tensor = torch.tensor(train_labels, dtype=torch.float)\n",
    "test_sequences = torch.tensor(test_encoded, dtype=torch.long)\n",
    "test_labels_tensor = torch.tensor(test_labels, dtype=torch.float)\n",
    "\n",
    "print(f\"Data encoding complete! Example sequence: {train_sequences[0][:15]}...\")\n",
    "print(f\"All sequences are now of length {chosen_max_len}\")\n",
    "\n",
    "# Calculate how many reviews were truncated\n",
    "truncated_count = sum(1 for length in review_lengths if length > chosen_max_len)\n",
    "truncated_percentage = (truncated_count / len(review_lengths)) * 100\n",
    "print(f\"Reviews truncated: {truncated_count} ({truncated_percentage:.2f}%)\")\n"
   ]
  },
  {
   "cell_type": "code",
   "execution_count": 189,
   "id": "97c96e69",
   "metadata": {},
   "outputs": [
    {
     "name": "stderr",
     "output_type": "stream",
     "text": [
      "100%|██████████| 25000/25000 [00:00<00:00, 46175.57it/s]\n",
      "100%|██████████| 25000/25000 [00:00<00:00, 40010.36it/s]\n"
     ]
    },
    {
     "name": "stdout",
     "output_type": "stream",
     "text": [
      "Data encoding complete! Example sequence: tensor([  11, 1511,   11,  237,    1,   36,   59,  390, 1132,   78,    5,   31,\n",
      "           2, 6947,   12])...\n"
     ]
    }
   ],
   "source": [
    "def encode_review(review, vocab, max_len=200):\n",
    "    \"\"\"Convert a review to a fixed-length sequence of integers\"\"\"\n",
    "    # Encode words, use <UNK> for unknown words\n",
    "    encoded = [vocab.get(word, vocab['<UNK>']) for word in review[:max_len]]\n",
    "    \n",
    "    # Pad sequences to the same length\n",
    "    if len(encoded) < max_len:\n",
    "        encoded += [vocab['<PAD>']] * (max_len - len(encoded))\n",
    "    \n",
    "    return encoded\n",
    "\n",
    "# Encode all reviews\n",
    "train_encoded = [encode_review(review, vocab) for review in tqdm(train_reviews)]\n",
    "test_encoded = [encode_review(review, vocab) for review in tqdm(test_reviews)]\n",
    "\n",
    "# Convert to tensors\n",
    "train_sequences = torch.tensor(train_encoded, dtype=torch.long)\n",
    "train_labels_tensor = torch.tensor(train_labels, dtype=torch.float)\n",
    "test_sequences = torch.tensor(test_encoded, dtype=torch.long)\n",
    "test_labels_tensor = torch.tensor(test_labels, dtype=torch.float)\n",
    "\n",
    "print(f\"Data encoding complete! Example sequence: {train_sequences[0][:15]}...\")\n"
   ]
  },
  {
   "cell_type": "code",
   "execution_count": 190,
   "id": "79846105",
   "metadata": {},
   "outputs": [
    {
     "name": "stdout",
     "output_type": "stream",
     "text": [
      "DataLoaders created! Training batches: 352\n"
     ]
    }
   ],
   "source": [
    "class IMDbDataset(Dataset):\n",
    "    def __init__(self, sequences, labels):\n",
    "        self.sequences = sequences\n",
    "        self.labels = labels\n",
    "    \n",
    "    def __len__(self):\n",
    "        return len(self.sequences)\n",
    "    \n",
    "    def __getitem__(self, idx):\n",
    "        return self.sequences[idx], self.labels[idx]\n",
    "\n",
    "# Create train/validation split\n",
    "train_seq, val_seq, train_labels, val_labels = train_test_split(\n",
    "    train_sequences, train_labels_tensor, test_size=0.1, random_state=42\n",
    ")\n",
    "\n",
    "# Create datasets\n",
    "train_dataset = IMDbDataset(train_seq, train_labels)\n",
    "val_dataset = IMDbDataset(val_seq, val_labels)\n",
    "test_dataset = IMDbDataset(test_sequences, test_labels_tensor)\n",
    "\n",
    "# Create dataloaders\n",
    "batch_size = 64\n",
    "train_loader = DataLoader(train_dataset, batch_size=batch_size, shuffle=True)\n",
    "val_loader = DataLoader(val_dataset, batch_size=batch_size)\n",
    "test_loader = DataLoader(test_dataset, batch_size=batch_size)\n",
    "\n",
    "print(f\"DataLoaders created! Training batches: {len(train_loader)}\")"
   ]
  },
  {
   "cell_type": "code",
   "execution_count": 191,
   "id": "9b4163bb",
   "metadata": {},
   "outputs": [
    {
     "name": "stdout",
     "output_type": "stream",
     "text": [
      "Loss function and optimizer defined!\n"
     ]
    }
   ],
   "source": [
    "# Binary Cross Entropy Loss\n",
    "criterion = nn.BCEWithLogitsLoss()\n",
    "\n",
    "# Adam optimizer\n",
    "optimizer = optim.Adam(model.parameters(), lr=0.001)\n",
    "\n",
    "print(\"Loss function and optimizer defined!\")"
   ]
  },
  {
   "cell_type": "code",
   "execution_count": 194,
   "id": "33100157",
   "metadata": {},
   "outputs": [],
   "source": [
    "class StackedLSTM(nn.Module):\n",
    "    def __init__(self, vocab_size, embedding_dim, hidden_dim, output_dim, n_layers, dropout=0.5):\n",
    "        super(StackedLSTM, self).__init__()\n",
    "        \n",
    "        self.embedding = nn.Embedding(vocab_size, embedding_dim)\n",
    "        \n",
    "        self.lstm = nn.LSTM(input_size=embedding_dim,\n",
    "                            hidden_size=hidden_dim,\n",
    "                            num_layers=n_layers,\n",
    "                            dropout=dropout if n_layers > 1 else 0,\n",
    "                            bidirectional=False,\n",
    "                            batch_first=True)\n",
    "        \n",
    "        self.fc = nn.Linear(hidden_dim, output_dim)\n",
    "        self.dropout = nn.Dropout(dropout)\n",
    "    def forward(self, x):\n",
    "        embedded = self.dropout(self.embedding(x))           # [batch_size, seq_len, embedding_dim]\n",
    "        outputs, _ = self.lstm(embedded)                      # [batch_size, seq_len, hidden_dim]\n",
    "        final_hidden = self.dropout(outputs[:, -1, :])       # last time step\n",
    "        return self.fc(final_hidden)\n",
    "model = StackedLSTM(\n",
    "    vocab_size=vocab_size,\n",
    "    embedding_dim=embedding_dim,\n",
    "    hidden_dim=256,\n",
    "    output_dim=1,\n",
    "    n_layers=n_layers\n",
    ").to(device)"
   ]
  },
  {
   "cell_type": "code",
   "execution_count": 195,
   "id": "e8eaca1e",
   "metadata": {},
   "outputs": [
    {
     "name": "stdout",
     "output_type": "stream",
     "text": [
      "\n",
      "Epoch 1/10\n",
      "--------------------\n"
     ]
    },
    {
     "name": "stderr",
     "output_type": "stream",
     "text": [
      "Training: 100%|██████████| 352/352 [00:08<00:00, 43.80it/s]\n",
      "Evaluating: 100%|██████████| 40/40 [00:00<00:00, 111.91it/s]\n"
     ]
    },
    {
     "name": "stdout",
     "output_type": "stream",
     "text": [
      "Train Loss: 0.6947 | Train Acc: 49.81%\n",
      "Val Loss: 0.6932 | Val Acc: 51.29%\n",
      "\n",
      "Epoch 2/10\n",
      "--------------------\n"
     ]
    },
    {
     "name": "stderr",
     "output_type": "stream",
     "text": [
      "Training: 100%|██████████| 352/352 [00:07<00:00, 45.96it/s]\n",
      "Evaluating: 100%|██████████| 40/40 [00:00<00:00, 118.91it/s]\n"
     ]
    },
    {
     "name": "stdout",
     "output_type": "stream",
     "text": [
      "Train Loss: 0.6946 | Train Acc: 49.78%\n",
      "Val Loss: 0.6932 | Val Acc: 51.29%\n",
      "\n",
      "Epoch 3/10\n",
      "--------------------\n"
     ]
    },
    {
     "name": "stderr",
     "output_type": "stream",
     "text": [
      "Training: 100%|██████████| 352/352 [00:07<00:00, 47.67it/s]\n",
      "Evaluating: 100%|██████████| 40/40 [00:00<00:00, 113.36it/s]\n"
     ]
    },
    {
     "name": "stdout",
     "output_type": "stream",
     "text": [
      "Train Loss: 0.6946 | Train Acc: 49.77%\n",
      "Val Loss: 0.6932 | Val Acc: 51.29%\n",
      "\n",
      "Epoch 4/10\n",
      "--------------------\n"
     ]
    },
    {
     "name": "stderr",
     "output_type": "stream",
     "text": [
      "Training: 100%|██████████| 352/352 [00:07<00:00, 48.07it/s]\n",
      "Evaluating: 100%|██████████| 40/40 [00:00<00:00, 116.07it/s]\n"
     ]
    },
    {
     "name": "stdout",
     "output_type": "stream",
     "text": [
      "Train Loss: 0.6945 | Train Acc: 49.78%\n",
      "Val Loss: 0.6932 | Val Acc: 51.29%\n",
      "\n",
      "Epoch 5/10\n",
      "--------------------\n"
     ]
    },
    {
     "name": "stderr",
     "output_type": "stream",
     "text": [
      "Training: 100%|██████████| 352/352 [00:07<00:00, 49.63it/s]\n",
      "Evaluating: 100%|██████████| 40/40 [00:00<00:00, 117.72it/s]\n"
     ]
    },
    {
     "name": "stdout",
     "output_type": "stream",
     "text": [
      "Train Loss: 0.6947 | Train Acc: 49.83%\n",
      "Val Loss: 0.6932 | Val Acc: 51.29%\n",
      "\n",
      "Epoch 6/10\n",
      "--------------------\n"
     ]
    },
    {
     "name": "stderr",
     "output_type": "stream",
     "text": [
      "Training: 100%|██████████| 352/352 [00:07<00:00, 49.16it/s]\n",
      "Evaluating: 100%|██████████| 40/40 [00:00<00:00, 111.81it/s]\n"
     ]
    },
    {
     "name": "stdout",
     "output_type": "stream",
     "text": [
      "Train Loss: 0.6944 | Train Acc: 49.73%\n",
      "Val Loss: 0.6932 | Val Acc: 51.29%\n",
      "\n",
      "Epoch 7/10\n",
      "--------------------\n"
     ]
    },
    {
     "name": "stderr",
     "output_type": "stream",
     "text": [
      "Training: 100%|██████████| 352/352 [00:07<00:00, 46.86it/s]\n",
      "Evaluating: 100%|██████████| 40/40 [00:00<00:00, 113.49it/s]\n"
     ]
    },
    {
     "name": "stdout",
     "output_type": "stream",
     "text": [
      "Train Loss: 0.6948 | Train Acc: 49.76%\n",
      "Val Loss: 0.6932 | Val Acc: 51.29%\n",
      "\n",
      "Epoch 8/10\n",
      "--------------------\n"
     ]
    },
    {
     "name": "stderr",
     "output_type": "stream",
     "text": [
      "Training: 100%|██████████| 352/352 [00:07<00:00, 45.84it/s]\n",
      "Evaluating: 100%|██████████| 40/40 [00:00<00:00, 105.39it/s]\n"
     ]
    },
    {
     "name": "stdout",
     "output_type": "stream",
     "text": [
      "Train Loss: 0.6947 | Train Acc: 49.82%\n",
      "Val Loss: 0.6932 | Val Acc: 51.29%\n",
      "\n",
      "Epoch 9/10\n",
      "--------------------\n"
     ]
    },
    {
     "name": "stderr",
     "output_type": "stream",
     "text": [
      "Training: 100%|██████████| 352/352 [00:07<00:00, 48.63it/s]\n",
      "Evaluating: 100%|██████████| 40/40 [00:00<00:00, 110.53it/s]\n"
     ]
    },
    {
     "name": "stdout",
     "output_type": "stream",
     "text": [
      "Train Loss: 0.6947 | Train Acc: 49.80%\n",
      "Val Loss: 0.6932 | Val Acc: 51.29%\n",
      "\n",
      "Epoch 10/10\n",
      "--------------------\n"
     ]
    },
    {
     "name": "stderr",
     "output_type": "stream",
     "text": [
      "Training: 100%|██████████| 352/352 [00:07<00:00, 49.58it/s]\n",
      "Evaluating: 100%|██████████| 40/40 [00:00<00:00, 116.32it/s]"
     ]
    },
    {
     "name": "stdout",
     "output_type": "stream",
     "text": [
      "Train Loss: 0.6947 | Train Acc: 49.76%\n",
      "Val Loss: 0.6932 | Val Acc: 51.29%\n",
      "\n",
      "Training complete!\n"
     ]
    },
    {
     "name": "stderr",
     "output_type": "stream",
     "text": [
      "\n"
     ]
    }
   ],
   "source": [
    "n_epochs = 10\n",
    "\n",
    "# Lists to store metrics\n",
    "train_losses = []\n",
    "train_accs = []\n",
    "val_losses = []\n",
    "val_accs = []\n",
    "\n",
    "# Training loop\n",
    "for epoch in range(n_epochs):\n",
    "    print(f\"\\nEpoch {epoch+1}/{n_epochs}\")\n",
    "    print(\"-\" * 20)\n",
    "    \n",
    "    # Train\n",
    "    train_loss, train_acc = train(model, train_loader, optimizer, criterion)\n",
    "    train_losses.append(train_loss)\n",
    "    train_accs.append(train_acc)\n",
    "    \n",
    "    # Evaluate\n",
    "    val_loss, val_acc = evaluate(model, val_loader, criterion)\n",
    "    val_losses.append(val_loss)\n",
    "    val_accs.append(val_acc)\n",
    "    \n",
    "    # Print metrics\n",
    "    print(f\"Train Loss: {train_loss:.4f} | Train Acc: {train_acc*100:.2f}%\")\n",
    "    print(f\"Val Loss: {val_loss:.4f} | Val Acc: {val_acc*100:.2f}%\")\n",
    "\n",
    "print(\"\\nTraining complete!\")"
   ]
  },
  {
   "cell_type": "code",
   "execution_count": 196,
   "id": "a2989b99",
   "metadata": {},
   "outputs": [
    {
     "data": {
      "image/png": "[encoded data removed]",
      "text/plain": [
       "<Figure size 1200x500 with 2 Axes>"
      ]
     },
     "metadata": {},
     "output_type": "display_data"
    }
   ],
   "source": [
    "plt.figure(figsize=(12, 5))\n",
    "\n",
    "# Plot loss\n",
    "plt.subplot(1, 2, 1)\n",
    "plt.plot(train_losses, label='Train Loss')\n",
    "plt.plot(val_losses, label='Val Loss')\n",
    "plt.xlabel('Epoch')\n",
    "plt.ylabel('Loss')\n",
    "plt.title('Training and Validation Loss')\n",
    "plt.legend()\n",
    "\n",
    "# Plot accuracy\n",
    "plt.subplot(1, 2, 2)\n",
    "plt.plot(train_accs, label='Train Acc')\n",
    "plt.plot(val_accs, label='Val Acc')\n",
    "plt.xlabel('Epoch')\n",
    "plt.ylabel('Accuracy')\n",
    "plt.title('Training and Validation Accuracy')\n",
    "plt.legend()\n",
    "\n",
    "plt.tight_layout()\n",
    "plt.show()\n"
   ]
  },
  {
   "cell_type": "code",
   "execution_count": 197,
   "id": "7d7442eb",
   "metadata": {},
   "outputs": [
    {
     "name": "stderr",
     "output_type": "stream",
     "text": [
      "Evaluating: 100%|██████████| 391/391 [00:04<00:00, 94.11it/s] "
     ]
    },
    {
     "name": "stdout",
     "output_type": "stream",
     "text": [
      "Test Loss: 0.6946 | Test Acc: 49.95%\n"
     ]
    },
    {
     "name": "stderr",
     "output_type": "stream",
     "text": [
      "\n"
     ]
    }
   ],
   "source": [
    "test_loss, test_acc = evaluate(model, test_loader, criterion)\n",
    "print(f\"Test Loss: {test_loss:.4f} | Test Acc: {test_acc*100:.2f}%\")"
   ]
  },
  {
   "cell_type": "code",
   "execution_count": 198,
   "id": "a26b560b",
   "metadata": {},
   "outputs": [
    {
     "name": "stdout",
     "output_type": "stream",
     "text": [
      "Model predictions on sample reviews:\n",
      "Review: This movie was absolutely amazing! The acting was ...\n",
      "Sentiment: Negative (probability: 0.4716)\n",
      "--------------------------------------------------\n",
      "Review: I was thoroughly disappointed with this film. The ...\n",
      "Sentiment: Negative (probability: 0.4716)\n",
      "--------------------------------------------------\n",
      "Review: It was okay. Nothing special but not terrible eith...\n",
      "Sentiment: Negative (probability: 0.4716)\n",
      "--------------------------------------------------\n",
      "Review: Despite some flaws in the plot, the movie had grea...\n",
      "Sentiment: Negative (probability: 0.4716)\n",
      "--------------------------------------------------\n"
     ]
    }
   ],
   "source": [
    "# Test on some examples\n",
    "sample_reviews = [\n",
    "    \"This movie was absolutely amazing! The acting was superb and the plot was engaging.\",\n",
    "    \"I was thoroughly disappointed with this film. The story made no sense and the acting was terrible.\",\n",
    "    \"It was okay. Nothing special but not terrible either.\",\n",
    "    \"Despite some flaws in the plot, the movie had great visual effects and good performances.\"\n",
    "]\n",
    "\n",
    "print(\"Model predictions on sample reviews:\")\n",
    "for review in sample_reviews:\n",
    "    prob, sent = predict_sentiment(model, review, vocab)\n",
    "    print(f\"Review: {review[:50]}...\")\n",
    "    print(f\"Sentiment: {sent} (probability: {prob:.4f})\")\n",
    "    print(\"-\" * 50)"
   ]
  },
  {
   "cell_type": "markdown",
   "id": "caa05064",
   "metadata": {},
   "source": [
    "## Comparison: Stacked LSTM vs. Stacked BiLSTM on IMDB Dataset\n",
    "\n",
    "### Model Configuration\n",
    "\n",
    "| Setting               | Stacked LSTM (Unidirectional) | Stacked BiLSTM          |\n",
    "|-----------------------|-------------------------------|--------------------------|\n",
    "| Directionality        | Unidirectional                 | Bidirectional            |\n",
    "| Embedding Dimension   | 100                            | 100                      |\n",
    "| Hidden Dimension      | 256                            | 256                      |\n",
    "| LSTM Layers           | 2                              | 2                        |\n",
    "| Dropout               | 0.5                            | 0.5                      |\n",
    "| Output Dimension      | 1 (binary classification)      | 1 (binary classification)|\n",
    "| Loss Function         | BCEWithLogitsLoss              | BCEWithLogitsLoss        |\n",
    "| Epochs                | 10                             | 10                       |\n",
    "| Optimizer             | Adam (lr=0.001)                | Adam (lr=0.001)          |\n",
    "\n",
    "---\n",
    "\n",
    "### Training & Validation Metrics (After 10 Epochs)\n",
    "\n",
    "| Metric           | Stacked LSTM (Uni) | Stacked BiLSTM |\n",
    "|------------------|--------------------|----------------|\n",
    "| Final Train Loss | ~0.694             | ~0.4239        |\n",
    "| Final Val Loss   | ~0.693             | ~0.4141        |\n",
    "| Train Accuracy   | ~49.8%             | ~81.44%        |\n",
    "| Val Accuracy     | ~51.3%             | ~82.19%        |\n",
    "\n",
    "---\n",
    "### Observations\n",
    "\n",
    "- The unidirectional LSTM failed to learn meaningful patterns and performed at random-chance level.\n",
    "- The bidirectional LSTM learned effectively, achieving over 82% accuracy on both validation and test sets.\n",
    "- The inclusion of bidirectionality improved the model's ability to understand context from both past and future tokens in the sequence.\n"
   ]
  }
 ],
 "metadata": {
  "kernelspec": {
   "display_name": "base",
   "language": "python",
   "name": "python3"
  },
  "language_info": {
   "codemirror_mode": {
    "name": "ipython",
    "version": 3
   },
   "file_extension": ".py",
   "mimetype": "text/x-python",
   "name": "python",
   "nbconvert_exporter": "python",
   "pygments_lexer": "ipython3",
   "version": "3.12.3"
  }
 },
 "nbformat": 4,
 "nbformat_minor": 5
}
